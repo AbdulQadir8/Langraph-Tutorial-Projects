{
  "nbformat": 4,
  "nbformat_minor": 0,
  "metadata": {
    "colab": {
      "provenance": [],
      "authorship_tag": "ABX9TyM31Lv5CojXHy7as3dwpqMI",
      "include_colab_link": true
    },
    "kernelspec": {
      "name": "python3",
      "display_name": "Python 3"
    },
    "language_info": {
      "name": "python"
    }
  },
  "cells": [
    {
      "cell_type": "markdown",
      "metadata": {
        "id": "view-in-github",
        "colab_type": "text"
      },
      "source": [
        "<a href=\"https://colab.research.google.com/github/AbdulQadir8/Langraph-Tutorial-Projects/blob/master/langraph_tutorial_practice.ipynb\" target=\"_parent\"><img src=\"https://colab.research.google.com/assets/colab-badge.svg\" alt=\"Open In Colab\"/></a>"
      ]
    },
    {
      "cell_type": "code",
      "execution_count": 1,
      "metadata": {
        "id": "Oiivz0awra6z"
      },
      "outputs": [],
      "source": [
        "%%capture --no-stderr\n",
        "%pip install -U langgraph langsmith langchain_google_genai"
      ]
    },
    {
      "cell_type": "code",
      "source": [
        "import os\n",
        "from google.colab import userdata\n",
        "\n",
        "os.environ[\"LANGCHAIN_API_KEY\"] = userdata.get('LANGCHAIN_API_KEY')\n",
        "os.environ[\"LANGCHAIN_TRACING_V2\"] = \"true\"\n",
        "os.environ[\"LANGCHAIN_PROJECT\"] = \"quickstart\"\n",
        "\n",
        "gemini_api_key = userdata.get(\"GEMINI_API_KEY\")"
      ],
      "metadata": {
        "id": "ipLj82yktpjR"
      },
      "execution_count": 2,
      "outputs": []
    },
    {
      "cell_type": "code",
      "source": [
        "from langchain_google_genai import GoogleGenerativeAI\n",
        "\n",
        "llm = GoogleGenerativeAI(\n",
        "    model='gemini-1.5-flash',\n",
        "    max_retries=2,\n",
        "    api_key=gemini_api_key\n",
        ")\n",
        "\n",
        "llm.invoke('greet me')"
      ],
      "metadata": {
        "colab": {
          "base_uri": "https://localhost:8080/",
          "height": 35
        },
        "id": "-1JhMJplt-ZU",
        "outputId": "119a4d79-802b-4467-daa5-b14c14288d32"
      },
      "execution_count": 3,
      "outputs": [
        {
          "output_type": "execute_result",
          "data": {
            "text/plain": [
              "'Hello there! How can I help you today? \\n'"
            ],
            "application/vnd.google.colaboratory.intrinsic+json": {
              "type": "string"
            }
          },
          "metadata": {},
          "execution_count": 3
        }
      ]
    },
    {
      "cell_type": "markdown",
      "source": [
        "## Part 1: Build a Basic Chatbot\n",
        "\n",
        "We'll first create a simple chatbot using LangGraph. This chatbot will respond directly to user messages. Though simple, it will illustrate the core concepts of building with LangGraph. By the end of this section, you will have a built rudimentary chatbot.\n",
        "\n",
        "Start by creating a `StateGraph`. A `StateGraph` object defines the structure of our chatbot as a \"state machine\". We'll add `nodes` to represent the llm and functions our chatbot can call and `edges` to specify how the bot should transition between these functions."
      ],
      "metadata": {
        "id": "w_hI-vtlvLRl"
      }
    },
    {
      "cell_type": "code",
      "source": [
        "from typing import Annotated\n",
        "from typing_extensions import TypedDict\n",
        "\n",
        "\n",
        "from langgraph.graph import StateGraph, START, END\n",
        "from langgraph.graph.message import add_messages\n",
        "\n",
        "\n",
        "class State(TypedDict):\n",
        "  # Messages have the type \"list\". The `add_messages` function\n",
        "  # in the annotation defines how this state key should be updated\n",
        "  # (in this case, it appends messages to the list, rather than overwriting them)\n",
        "  messages: Annotated[list, add_messages]\n",
        "\n",
        "graph_builder = StateGraph(State)"
      ],
      "metadata": {
        "id": "J2RBbHbLutup"
      },
      "execution_count": 4,
      "outputs": []
    },
    {
      "cell_type": "code",
      "source": [
        "# Example usage of add_messages\n",
        "new_messages_1 = [{\"role\": \"user\", \"content\": \"Hello\"}]\n",
        "new_messages_2 = [{\"role\": \"ai\", \"content\": \"Hi there!\"}]\n",
        "\n",
        "updated_state_1 = add_messages(new_messages_1, new_messages_2)\n",
        "\n",
        "\n",
        "print(\"Updated State 1:\", updated_state_1)\n",
        "\n",
        "# from typing import Annotated\n",
        "# from typing_extensions import TypedDict\n",
        "# from langgraph.graph import StateGraph\n",
        "\n",
        "# class State(TypedDict):\n",
        "#     messages: Annotated[list, add_messages]\n",
        "\n",
        "# builder = StateGraph(State)\n",
        "# builder.add_node(\"chatbot\", lambda state: {\"messages\": [(\"assistant\", \"Hello\")]})\n",
        "# builder.set_entry_point(\"chatbot\")\n",
        "# builder.set_finish_point(\"chatbot\")\n",
        "# graph = builder.compile()\n",
        "# graph.invoke({\"messages\": [{\"role\": \"user\", \"content\": \"Hello\"}]})"
      ],
      "metadata": {
        "colab": {
          "base_uri": "https://localhost:8080/",
          "height": 0
        },
        "id": "5PdOc5W0xs-l",
        "outputId": "1fb0ec3f-b1b4-4dab-e5a2-354678b88782"
      },
      "execution_count": 5,
      "outputs": [
        {
          "output_type": "stream",
          "name": "stdout",
          "text": [
            "Updated State 1: [HumanMessage(content='Hello', additional_kwargs={}, response_metadata={}, id='81512815-6c41-4670-bd52-ae214f20dace'), AIMessage(content='Hi there!', additional_kwargs={}, response_metadata={}, id='5f9cee5b-7a07-466d-aca5-161dbc1b1bef')]\n"
          ]
        }
      ]
    },
    {
      "cell_type": "markdown",
      "source": [
        "So now our graph knows two things:\n",
        "\n",
        "1. Every `node` we define will receive the current `State` as input and return a value that updates that state.\n",
        "2. `messages` will be _appended_ to the current list, rather than directly overwritten. This is communicated via the prebuilt [`add_messages`](https://langchain-ai.github.io/langgraph/reference/graphs/?h=add+messages#add_messages) function in the `Annotated` syntax.\n",
        "\n",
        "Next, add a \"`chatbot`\" node. Nodes represent units of work. They are typically regular python functions."
      ],
      "metadata": {
        "id": "qWDmHwi_jrRC"
      }
    },
    {
      "cell_type": "code",
      "source": [
        "def chatbot(state: State):\n",
        "  return {\"messages\":[llm.invoke(state[\"messages\"])]}\n",
        "\n",
        "# The first argument is the unique node name\n",
        "# The second argument is the function or object that will be called whenever\n",
        "# the node is used.\n",
        "graph_builder.add_node(\"chatbot\",chatbot)"
      ],
      "metadata": {
        "colab": {
          "base_uri": "https://localhost:8080/",
          "height": 0
        },
        "id": "jCs0zITnajk0",
        "outputId": "1827c7f9-8bd8-46cd-85cb-05e7578e9139"
      },
      "execution_count": 6,
      "outputs": [
        {
          "output_type": "execute_result",
          "data": {
            "text/plain": [
              "<langgraph.graph.state.StateGraph at 0x7937080bec20>"
            ]
          },
          "metadata": {},
          "execution_count": 6
        }
      ]
    },
    {
      "cell_type": "markdown",
      "source": [
        "**Notice** how the `chatbot` node function takes the current `State` as input and returns a dictionary containing an updated `messages` list under the key \"messages\". This is the basic pattern for all LangGraph node functions.\n",
        "\n",
        "The `add_messages` function in our `State` will append the llm's response messages to whatever messages are already in the state.\n",
        "\n",
        "Next, add an `entry` point. This tells our graph **where to start its work** each time we run it."
      ],
      "metadata": {
        "id": "A0dXMxRSwydc"
      }
    },
    {
      "cell_type": "code",
      "source": [
        "graph_builder.add_edge(START, \"chatbot\")"
      ],
      "metadata": {
        "colab": {
          "base_uri": "https://localhost:8080/",
          "height": 0
        },
        "id": "4xSESPa6k3Nm",
        "outputId": "db6b3b7b-781b-43e1-ec00-dafdcfa7fe9b"
      },
      "execution_count": 7,
      "outputs": [
        {
          "output_type": "execute_result",
          "data": {
            "text/plain": [
              "<langgraph.graph.state.StateGraph at 0x7937080bec20>"
            ]
          },
          "metadata": {},
          "execution_count": 7
        }
      ]
    },
    {
      "cell_type": "markdown",
      "source": [
        "Similarly, set a `finish` point. This instructs the graph **\"any time this node\n",
        "is run, you can exit.\"**"
      ],
      "metadata": {
        "id": "tqI1GFpKxME3"
      }
    },
    {
      "cell_type": "code",
      "source": [
        "graph_builder.add_edge(\"chatbot\", END)"
      ],
      "metadata": {
        "colab": {
          "base_uri": "https://localhost:8080/",
          "height": 0
        },
        "id": "UnDGF9b-w-zN",
        "outputId": "e54155d7-0d83-44be-f2f8-85f3e2a1b960"
      },
      "execution_count": 8,
      "outputs": [
        {
          "output_type": "execute_result",
          "data": {
            "text/plain": [
              "<langgraph.graph.state.StateGraph at 0x7937080bec20>"
            ]
          },
          "metadata": {},
          "execution_count": 8
        }
      ]
    },
    {
      "cell_type": "markdown",
      "source": [],
      "metadata": {
        "id": "yokptS0pzV8D"
      }
    },
    {
      "cell_type": "code",
      "source": [
        "graph = graph_builder.compile()"
      ],
      "metadata": {
        "id": "-kjfW7sKxxJ7"
      },
      "execution_count": 9,
      "outputs": []
    },
    {
      "cell_type": "markdown",
      "source": [
        "You can visualize the graph using the `get_graph` method and one of the \"draw\"\n",
        "\n",
        "---\n",
        "\n",
        "methods, like `draw_ascii` or `draw_png`. The `draw` methods each require additional dependencies."
      ],
      "metadata": {
        "id": "XhTPsvSSzZ0r"
      }
    },
    {
      "cell_type": "code",
      "source": [
        "from IPython.display import Image, display\n",
        "\n",
        "try:\n",
        "  display(Image(graph.get_graph().draw_mermaid_png()))\n",
        "except:\n",
        "  # This requires some extra dependencies and is optional\n",
        "  pass\n",
        "\n"
      ],
      "metadata": {
        "colab": {
          "base_uri": "https://localhost:8080/",
          "height": 251
        },
        "id": "ND-mhP7wzCOs",
        "outputId": "8c7f91d0-cea1-4280-b01f-5cbead530415"
      },
      "execution_count": 10,
      "outputs": [
        {
          "output_type": "display_data",
          "data": {
            "image/jpeg": "[encoded data removed]",
            "text/plain": [
              "<IPython.core.display.Image object>"
            ]
          },
          "metadata": {}
        }
      ]
    },
    {
      "cell_type": "code",
      "source": [
        "for event in graph.stream({\"messages\":[(\"user\",\"I am Abdul Qadir\")]}):\n",
        "  print(\"EVENT: \",list(event.values())[0][\"messages\"][-1])"
      ],
      "metadata": {
        "colab": {
          "base_uri": "https://localhost:8080/",
          "height": 0
        },
        "id": "OAVtRNEI0Yuw",
        "outputId": "16c79776-976b-4b38-d88e-2beda032fa61"
      },
      "execution_count": 11,
      "outputs": [
        {
          "output_type": "stream",
          "name": "stdout",
          "text": [
            "EVENT:  It's nice to meet you, Abdul Qadir! 😊 \n",
            "\n",
            "Is there anything I can help you with today? I'm here to assist with any questions or tasks you might have. \n",
            "\n"
          ]
        }
      ]
    },
    {
      "cell_type": "code",
      "source": [
        "def stream_graph_updates(user_input: str):\n",
        "  for event in graph.stream({\"messages\": [(\"user\", user_input)]}):\n",
        "    for value in event.values():\n",
        "      print(\"Assistant\", value[\"messages\"][-1])\n",
        "\n",
        "while True:\n",
        "  try:\n",
        "    user_input = input(\"User: \")\n",
        "    if user_input.lower() in [\"quit\",\"exit\",\"q\"]:\n",
        "      print(\"Good bye!\")\n",
        "      break\n",
        "    stream_graph_updates(user_input)\n",
        "  except:\n",
        "    # fallback if input is not available\n",
        "    user_input = \"What do you know about LangGraph?\"\n",
        "    print(\"User: \"+ user_input)\n",
        "    stream_graph_updates(user_input)\n",
        "    break"
      ],
      "metadata": {
        "colab": {
          "base_uri": "https://localhost:8080/",
          "height": 0
        },
        "id": "3ZrvuvJh3Ywb",
        "outputId": "612f32ed-3290-4ed9-8ddc-a89426588679"
      },
      "execution_count": 12,
      "outputs": [
        {
          "output_type": "stream",
          "name": "stdout",
          "text": [
            "User: Hi \n",
            "Assistant Hi there! How can I help you today? \n",
            "\n",
            "User: its me Adbul Qadir\n",
            "Assistant Hello Abdul Qadir! 👋  It's nice to hear from you. What can I do for you today? 😊 \n",
            "\n",
            "User: Do you know my name\n",
            "Assistant As an AI, I do not have memory of past conversations or personal information about individuals. Therefore, I do not know your name. \n",
            "\n",
            "If you would like to tell me your name, I would be happy to learn it! 😊 \n",
            "\n",
            "User: Can you tell me about Al-Kundi?\n",
            "Assistant ## Al-Kindi: The \"Philosopher of the Arabs\"\n",
            "\n",
            "**Al-Kindi**, also known as **\"The Philosopher of the Arabs\"**, was a prominent Arab polymath who lived in the 9th century CE (circa 801-873). He was a philosopher, scientist, mathematician, physician, astrologer, and musician, making significant contributions to various fields of knowledge. \n",
            "\n",
            "**Here are some key aspects of his life and work:**\n",
            "\n",
            "* **Early Life:** Al-Kindi was born in Kufa, Iraq, into a wealthy and influential family. He received a comprehensive education in Baghdad, the Abbasid capital, studying various subjects including philosophy, logic, mathematics, astronomy, and medicine.\n",
            "* **Influence of Greek Thought:** Al-Kindi was deeply influenced by Greek philosophy, particularly the works of Aristotle, Plato, and the Neoplatonists. He translated and commented on many Greek texts, introducing them to the Arab world and contributing to the flourishing of intellectual activity during the Islamic Golden Age.\n",
            "* **Philosophical Contributions:** Al-Kindi was a staunch advocate for reason and logic. He emphasized the importance of empirical observation and scientific inquiry in understanding the world. He wrote extensively on metaphysics, ethics, psychology, and political philosophy, advocating for a harmonious society based on justice and virtue.\n",
            "* **Scientific Achievements:** Al-Kindi made significant contributions to mathematics, astronomy, and optics. He developed methods for deciphering codes and wrote about cryptography. He also explored the properties of light and vision, contributing to the development of optics.\n",
            "* **Legacy:** Al-Kindi's work had a profound impact on the development of Islamic thought and scholarship. He is considered a bridge between the classical Greek tradition and the flourishing of Arabic science and philosophy. His writings were widely studied and translated, influencing generations of scholars and thinkers.\n",
            "\n",
            "**Key works:**\n",
            "\n",
            "* **On First Philosophy**\n",
            "* **On the Elements of the Book of Aristotle**\n",
            "* **On the Intellect**\n",
            "* **On the Degrees of the Soul**\n",
            "* **On the Use of the Astrolabe**\n",
            "* **On the Properties of Light**\n",
            "\n",
            "Al-Kindi's contributions to various fields of knowledge solidify his position as one of the most important intellectuals of the Islamic Golden Age. He helped to establish a foundation for scientific inquiry and philosophical thought that would continue to influence the world for centuries to come. \n",
            "\n",
            "User: Does Al-Kindi  founded Cryptography?\n",
            "Assistant It's not accurate to say that Al-Kindi \"founded\" cryptography. While he was a significant figure in the history of cryptography, the field has a much longer and more complex history. \n",
            "\n",
            "Here's why:\n",
            "\n",
            "* **Cryptography existed before Al-Kindi:**  The practice of securing messages dates back to ancient civilizations, with examples found in ancient Egypt, Greece, and Rome. \n",
            "* **Al-Kindi's contribution:** Al-Kindi, a 9th-century Arab polymath, is credited with writing the first known treatise on cryptography, \"A Manuscript on Deciphering Cryptographic Messages.\" This work analyzed and described various methods of cryptanalysis, including frequency analysis, which is still a fundamental tool in modern cryptanalysis.\n",
            "* **Evolution of cryptography:** After Al-Kindi, cryptography continued to evolve with contributions from various civilizations and individuals throughout history. \n",
            "\n",
            "**Therefore, while Al-Kindi played a significant role in the development of cryptography, it's more accurate to say he was a pioneer in the field rather than its founder.** \n",
            "\n",
            "User: quit\n",
            "Good bye!\n"
          ]
        }
      ]
    },
    {
      "cell_type": "code",
      "source": [],
      "metadata": {
        "id": "j-eLkrRh2XvB"
      },
      "execution_count": null,
      "outputs": []
    },
    {
      "cell_type": "code",
      "source": [],
      "metadata": {
        "id": "beTtst4wZfFS"
      },
      "execution_count": 12,
      "outputs": []
    },
    {
      "cell_type": "code",
      "source": [],
      "metadata": {
        "id": "-WLFfFz5ZfA_"
      },
      "execution_count": 12,
      "outputs": []
    }
  ]
}