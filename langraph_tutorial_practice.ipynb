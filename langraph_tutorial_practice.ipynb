{
  "nbformat": 4,
  "nbformat_minor": 0,
  "metadata": {
    "colab": {
      "provenance": [],
      "authorship_tag": "ABX9TyO7UdkVXSjEQtacjnTElsN+",
      "include_colab_link": true
    },
    "kernelspec": {
      "name": "python3",
      "display_name": "Python 3"
    },
    "language_info": {
      "name": "python"
    }
  },
  "cells": [
    {
      "cell_type": "markdown",
      "metadata": {
        "id": "view-in-github",
        "colab_type": "text"
      },
      "source": [
        "<a href=\"https://colab.research.google.com/github/AbdulQadir8/Langraph-Tutorial-Projects/blob/master/langraph_tutorial_practice.ipynb\" target=\"_parent\"><img src=\"https://colab.research.google.com/assets/colab-badge.svg\" alt=\"Open In Colab\"/></a>"
      ]
    },
    {
      "cell_type": "code",
      "execution_count": 141,
      "metadata": {
        "id": "Oiivz0awra6z"
      },
      "outputs": [],
      "source": [
        "%%capture --no-stderr\n",
        "%pip install -U langgraph langsmith langchain_google_genai"
      ]
    },
    {
      "cell_type": "code",
      "source": [
        "import os\n",
        "from google.colab import userdata\n",
        "\n",
        "os.environ[\"LANGCHAIN_API_KEY\"] = userdata.get('LANGCHAIN_API_KEY')\n",
        "os.environ[\"LANGCHAIN_TRACING_V2\"] = \"true\"\n",
        "os.environ[\"LANGCHAIN_PROJECT\"] = \"quickstart\"\n",
        "\n",
        "gemini_api_key = userdata.get(\"GEMINI_API_KEY\")"
      ],
      "metadata": {
        "id": "ipLj82yktpjR"
      },
      "execution_count": 142,
      "outputs": []
    },
    {
      "cell_type": "code",
      "source": [
        "from langchain_google_genai import ChatGoogleGenerativeAI\n",
        "\n",
        "llm = ChatGoogleGenerativeAI(\n",
        "    model='gemini-1.5-flash',\n",
        "    max_retries=2,\n",
        "    api_key=gemini_api_key\n",
        ")\n",
        "\n",
        "llm.invoke('greet me')"
      ],
      "metadata": {
        "colab": {
          "base_uri": "https://localhost:8080/"
        },
        "id": "-1JhMJplt-ZU",
        "outputId": "78ccd64d-87e5-4e18-ec23-948f699dd167"
      },
      "execution_count": 143,
      "outputs": [
        {
          "output_type": "execute_result",
          "data": {
            "text/plain": [
              "AIMessage(content='Hello there! How can I help you today? \\n', additional_kwargs={}, response_metadata={'prompt_feedback': {'block_reason': 0, 'safety_ratings': []}, 'finish_reason': 'STOP', 'safety_ratings': [{'category': 'HARM_CATEGORY_SEXUALLY_EXPLICIT', 'probability': 'NEGLIGIBLE', 'blocked': False}, {'category': 'HARM_CATEGORY_HATE_SPEECH', 'probability': 'NEGLIGIBLE', 'blocked': False}, {'category': 'HARM_CATEGORY_HARASSMENT', 'probability': 'NEGLIGIBLE', 'blocked': False}, {'category': 'HARM_CATEGORY_DANGEROUS_CONTENT', 'probability': 'NEGLIGIBLE', 'blocked': False}]}, id='run-fe988302-2817-4c21-a4cb-f547babbd301-0', usage_metadata={'input_tokens': 3, 'output_tokens': 10, 'total_tokens': 13, 'input_token_details': {'cache_read': 0}})"
            ]
          },
          "metadata": {},
          "execution_count": 143
        }
      ]
    },
    {
      "cell_type": "markdown",
      "source": [
        "## Part 1: Build a Basic Chatbot\n",
        "\n",
        "We'll first create a simple chatbot using LangGraph. This chatbot will respond directly to user messages. Though simple, it will illustrate the core concepts of building with LangGraph. By the end of this section, you will have a built rudimentary chatbot.\n",
        "\n",
        "Start by creating a `StateGraph`. A `StateGraph` object defines the structure of our chatbot as a \"state machine\". We'll add `nodes` to represent the llm and functions our chatbot can call and `edges` to specify how the bot should transition between these functions."
      ],
      "metadata": {
        "id": "w_hI-vtlvLRl"
      }
    },
    {
      "cell_type": "code",
      "source": [
        "from typing import Annotated\n",
        "from typing_extensions import TypedDict\n",
        "\n",
        "\n",
        "from langgraph.graph import StateGraph, START, END\n",
        "from langgraph.graph.message import add_messages\n",
        "\n",
        "\n",
        "class State(TypedDict):\n",
        "  # Messages have the type \"list\". The `add_messages` function\n",
        "  # in the annotation defines how this state key should be updated\n",
        "  # (in this case, it appends messages to the list, rather than overwriting them)\n",
        "  messages: Annotated[list, add_messages]\n",
        "\n",
        "graph_builder = StateGraph(State)"
      ],
      "metadata": {
        "id": "J2RBbHbLutup"
      },
      "execution_count": 144,
      "outputs": []
    },
    {
      "cell_type": "code",
      "source": [
        "# Example usage of add_messages\n",
        "new_messages_1 = [{\"role\": \"user\", \"content\": \"Hello\"}]\n",
        "new_messages_2 = [{\"role\": \"ai\", \"content\": \"Hi there!\"}]\n",
        "\n",
        "updated_state_1 = add_messages(new_messages_1, new_messages_2)\n",
        "\n",
        "\n",
        "print(\"Updated State 1:\", updated_state_1)\n",
        "\n",
        "# from typing import Annotated\n",
        "# from typing_extensions import TypedDict\n",
        "# from langgraph.graph import StateGraph\n",
        "\n",
        "# class State(TypedDict):\n",
        "#     messages: Annotated[list, add_messages]\n",
        "\n",
        "# builder = StateGraph(State)\n",
        "# builder.add_node(\"chatbot\", lambda state: {\"messages\": [(\"assistant\", \"Hello\")]})\n",
        "# builder.set_entry_point(\"chatbot\")\n",
        "# builder.set_finish_point(\"chatbot\")\n",
        "# graph = builder.compile()\n",
        "# graph.invoke({\"messages\": [{\"role\": \"user\", \"content\": \"Hello\"}]})"
      ],
      "metadata": {
        "colab": {
          "base_uri": "https://localhost:8080/"
        },
        "id": "5PdOc5W0xs-l",
        "outputId": "eaf581d6-cce1-4ecf-b82d-17a931a12c96"
      },
      "execution_count": 145,
      "outputs": [
        {
          "output_type": "stream",
          "name": "stdout",
          "text": [
            "Updated State 1: [HumanMessage(content='Hello', additional_kwargs={}, response_metadata={}, id='89aabac2-3c0d-43a5-b496-7b7e36e428f9'), AIMessage(content='Hi there!', additional_kwargs={}, response_metadata={}, id='c3e14cbe-fbde-401f-a67c-7c3bb4e511bc')]\n"
          ]
        }
      ]
    },
    {
      "cell_type": "markdown",
      "source": [
        "So now our graph knows two things:\n",
        "\n",
        "1. Every `node` we define will receive the current `State` as input and return a value that updates that state.\n",
        "2. `messages` will be _appended_ to the current list, rather than directly overwritten. This is communicated via the prebuilt [`add_messages`](https://langchain-ai.github.io/langgraph/reference/graphs/?h=add+messages#add_messages) function in the `Annotated` syntax.\n",
        "\n",
        "Next, add a \"`chatbot`\" node. Nodes represent units of work. They are typically regular python functions."
      ],
      "metadata": {
        "id": "qWDmHwi_jrRC"
      }
    },
    {
      "cell_type": "code",
      "source": [
        "def chatbot(state: State):\n",
        "  return {\"messages\":[llm.invoke(state[\"messages\"])]}\n",
        "\n",
        "# The first argument is the unique node name\n",
        "# The second argument is the function or object that will be called whenever\n",
        "# the node is used.\n",
        "graph_builder.add_node(\"chatbot\",chatbot)"
      ],
      "metadata": {
        "colab": {
          "base_uri": "https://localhost:8080/"
        },
        "id": "jCs0zITnajk0",
        "outputId": "492f3085-42b4-49f7-bce0-6c0223a275a3"
      },
      "execution_count": 146,
      "outputs": [
        {
          "output_type": "execute_result",
          "data": {
            "text/plain": [
              "<langgraph.graph.state.StateGraph at 0x7a47104a0a90>"
            ]
          },
          "metadata": {},
          "execution_count": 146
        }
      ]
    },
    {
      "cell_type": "markdown",
      "source": [
        "**Notice** how the `chatbot` node function takes the current `State` as input and returns a dictionary containing an updated `messages` list under the key \"messages\". This is the basic pattern for all LangGraph node functions.\n",
        "\n",
        "The `add_messages` function in our `State` will append the llm's response messages to whatever messages are already in the state.\n",
        "\n",
        "Next, add an `entry` point. This tells our graph **where to start its work** each time we run it."
      ],
      "metadata": {
        "id": "A0dXMxRSwydc"
      }
    },
    {
      "cell_type": "code",
      "source": [
        "graph_builder.add_edge(START, \"chatbot\")"
      ],
      "metadata": {
        "colab": {
          "base_uri": "https://localhost:8080/"
        },
        "id": "4xSESPa6k3Nm",
        "outputId": "c2485c6e-2b6b-4f7a-bb6a-a0fb915f6bcd"
      },
      "execution_count": 147,
      "outputs": [
        {
          "output_type": "execute_result",
          "data": {
            "text/plain": [
              "<langgraph.graph.state.StateGraph at 0x7a47104a0a90>"
            ]
          },
          "metadata": {},
          "execution_count": 147
        }
      ]
    },
    {
      "cell_type": "markdown",
      "source": [
        "Similarly, set a `finish` point. This instructs the graph **\"any time this node\n",
        "is run, you can exit.\"**"
      ],
      "metadata": {
        "id": "tqI1GFpKxME3"
      }
    },
    {
      "cell_type": "code",
      "source": [
        "graph_builder.add_edge(\"chatbot\", END)"
      ],
      "metadata": {
        "colab": {
          "base_uri": "https://localhost:8080/"
        },
        "id": "UnDGF9b-w-zN",
        "outputId": "85ccef85-9ef9-4e1e-cdad-c6fee6029639"
      },
      "execution_count": 148,
      "outputs": [
        {
          "output_type": "execute_result",
          "data": {
            "text/plain": [
              "<langgraph.graph.state.StateGraph at 0x7a47104a0a90>"
            ]
          },
          "metadata": {},
          "execution_count": 148
        }
      ]
    },
    {
      "cell_type": "markdown",
      "source": [],
      "metadata": {
        "id": "yokptS0pzV8D"
      }
    },
    {
      "cell_type": "code",
      "source": [
        "graph = graph_builder.compile()"
      ],
      "metadata": {
        "id": "-kjfW7sKxxJ7"
      },
      "execution_count": 149,
      "outputs": []
    },
    {
      "cell_type": "markdown",
      "source": [
        "You can visualize the graph using the `get_graph` method and one of the \"draw\"\n",
        "\n",
        "---\n",
        "\n",
        "methods, like `draw_ascii` or `draw_png`. The `draw` methods each require additional dependencies."
      ],
      "metadata": {
        "id": "XhTPsvSSzZ0r"
      }
    },
    {
      "cell_type": "code",
      "source": [
        "from IPython.display import Image, display\n",
        "\n",
        "try:\n",
        "  display(Image(graph.get_graph().draw_mermaid_png()))\n",
        "except:\n",
        "  # This requires some extra dependencies and is optional\n",
        "  pass\n",
        "\n"
      ],
      "metadata": {
        "colab": {
          "base_uri": "https://localhost:8080/",
          "height": 251
        },
        "id": "ND-mhP7wzCOs",
        "outputId": "aff3a8d4-c78a-4f2d-c0c4-caeee581a8ae"
      },
      "execution_count": 150,
      "outputs": [
        {
          "output_type": "display_data",
          "data": {
            "image/jpeg": "[encoded data removed]",
            "text/plain": [
              "<IPython.core.display.Image object>"
            ]
          },
          "metadata": {}
        }
      ]
    },
    {
      "cell_type": "code",
      "source": [
        "for event in graph.stream({\"messages\":[(\"user\",\"I am Abdul Qadir\")]}):\n",
        "  print(\"EVENT: \",list(event.values())[0][\"messages\"].content)"
      ],
      "metadata": {
        "colab": {
          "base_uri": "https://localhost:8080/"
        },
        "id": "OAVtRNEI0Yuw",
        "outputId": "6e3c2320-1085-4ac2-ce72-18144b4197c2"
      },
      "execution_count": 167,
      "outputs": [
        {
          "output_type": "stream",
          "name": "stdout",
          "text": [
            "EVENT:  Nice to meet you, Abdul Qadir! How can I help you today? \n",
            "\n"
          ]
        }
      ]
    },
    {
      "cell_type": "code",
      "source": [
        "def stream_graph_updates(user_input: str):\n",
        "  for event in graph.stream({\"messages\": [(\"user\", user_input)]}):\n",
        "    for value in event.values():\n",
        "      print(\"Assistant\", value[\"messages\"])\n",
        "\n",
        "while True:\n",
        "  try:\n",
        "    user_input = input(\"User: \")\n",
        "    if user_input.lower() in [\"quit\",\"exit\",\"q\"]:\n",
        "      print(\"Good bye!\")\n",
        "      break\n",
        "    stream_graph_updates(user_input)\n",
        "  except:\n",
        "    # fallback if input is not available\n",
        "    user_input = \"What do you know about LangGraph?\"\n",
        "    print(\"User: \"+ user_input)\n",
        "    stream_graph_updates(user_input)\n",
        "    break"
      ],
      "metadata": {
        "colab": {
          "base_uri": "https://localhost:8080/"
        },
        "id": "3ZrvuvJh3Ywb",
        "outputId": "ac1f200e-6825-4253-fbac-d0751c7b0a7e"
      },
      "execution_count": 170,
      "outputs": [
        {
          "output_type": "stream",
          "name": "stdout",
          "text": [
            "User: Who is Quaid-e-Azam?\n",
            "Assistant content='' additional_kwargs={'function_call': {'name': 'tavily_search_results_json', 'arguments': '{\"query\": \"Who is Quaid-e-Azam?\"}'}} response_metadata={'prompt_feedback': {'block_reason': 0, 'safety_ratings': []}, 'finish_reason': 'STOP', 'safety_ratings': [{'category': 'HARM_CATEGORY_HARASSMENT', 'probability': 'NEGLIGIBLE', 'blocked': False}, {'category': 'HARM_CATEGORY_DANGEROUS_CONTENT', 'probability': 'NEGLIGIBLE', 'blocked': False}, {'category': 'HARM_CATEGORY_HATE_SPEECH', 'probability': 'NEGLIGIBLE', 'blocked': False}, {'category': 'HARM_CATEGORY_SEXUALLY_EXPLICIT', 'probability': 'NEGLIGIBLE', 'blocked': False}]} id='run-db68e16d-0853-4974-990d-d6dd45b272f6-0' tool_calls=[{'name': 'tavily_search_results_json', 'args': {'query': 'Who is Quaid-e-Azam?'}, 'id': '79f822c4-f4fa-4982-9d48-40b52b29f488', 'type': 'tool_call'}] usage_metadata={'input_tokens': 84, 'output_tokens': 29, 'total_tokens': 113, 'input_token_details': {'cache_read': 0}}\n",
            "Assistant [ToolMessage(content='[{\"url\": \"https://worldhistoryedu.com/muhammad-ali-jinnah-biography-major-achievements-other-facts/\", \"content\": \"Popularly known as \\'Quaid-e-Azam\\' in Pakistan, Muhammad Jinnah was the leader of the All-India Muslim League from 1913 till Pakistan gained independence in August 1947. He served as the country\\'s first Governor-General until his death in 1948. By founding Pakistan, Jinnah gave its people a sense of identity, territory and a sense of destiny.\"}, {\"url\": \"https://www.newworldencyclopedia.org/entry/Muhammad_Jinnah\", \"content\": \"Muhammad Ali Jinnah (December 25, 1876 - September 11, 1948) was a major political leader of the All India Muslim League who founded Pakistan and served as its first Governor-General. He is commonly known in Pakistan as Quaid-e-Azam (\\\\\"Great Leader\\\\\") and Baba-e-Qaum (\\\\\"Father of the Nation.\\\\\") His birth and death anniversaries are national holidays in Pakistan.\"}]', name='tavily_search_results_json', id='9f852e2b-9415-449a-9dad-79706ae6182c', tool_call_id='79f822c4-f4fa-4982-9d48-40b52b29f488')]\n",
            "Assistant content='Quaid-e-Azam, also known as Muhammad Ali Jinnah, was the leader of the All-India Muslim League from 1913 until Pakistan gained independence in August 1947. He served as the country\\'s first Governor-General until his death in 1948. He is commonly known in Pakistan as Quaid-e-Azam (\"Great Leader\") and Baba-e-Qaum (\"Father of the Nation.\"). He is considered the founder of Pakistan. \\n' additional_kwargs={} response_metadata={'prompt_feedback': {'block_reason': 0, 'safety_ratings': []}, 'finish_reason': 'STOP', 'safety_ratings': [{'category': 'HARM_CATEGORY_SEXUALLY_EXPLICIT', 'probability': 'NEGLIGIBLE', 'blocked': False}, {'category': 'HARM_CATEGORY_HATE_SPEECH', 'probability': 'NEGLIGIBLE', 'blocked': False}, {'category': 'HARM_CATEGORY_HARASSMENT', 'probability': 'NEGLIGIBLE', 'blocked': False}, {'category': 'HARM_CATEGORY_DANGEROUS_CONTENT', 'probability': 'NEGLIGIBLE', 'blocked': False}]} id='run-6421793b-ea5b-4564-b852-4a81b6cc85eb-0' usage_metadata={'input_tokens': 382, 'output_tokens': 105, 'total_tokens': 487, 'input_token_details': {'cache_read': 0}}\n",
            "User: Who is Obama\n",
            "Assistant content='' additional_kwargs={'function_call': {'name': 'tavily_search_results_json', 'arguments': '{\"query\": \"Who is Obama\"}'}} response_metadata={'prompt_feedback': {'block_reason': 0, 'safety_ratings': []}, 'finish_reason': 'STOP', 'safety_ratings': [{'category': 'HARM_CATEGORY_DANGEROUS_CONTENT', 'probability': 'NEGLIGIBLE', 'blocked': False}, {'category': 'HARM_CATEGORY_HARASSMENT', 'probability': 'NEGLIGIBLE', 'blocked': False}, {'category': 'HARM_CATEGORY_HATE_SPEECH', 'probability': 'NEGLIGIBLE', 'blocked': False}, {'category': 'HARM_CATEGORY_SEXUALLY_EXPLICIT', 'probability': 'NEGLIGIBLE', 'blocked': False}]} id='run-40f1c7b8-f1ff-43f5-9391-181e09b1fd88-0' tool_calls=[{'name': 'tavily_search_results_json', 'args': {'query': 'Who is Obama'}, 'id': '4910a842-7f71-4620-8968-e1780cc3e4d3', 'type': 'tool_call'}] usage_metadata={'input_tokens': 77, 'output_tokens': 22, 'total_tokens': 99, 'input_token_details': {'cache_read': 0}}\n",
            "Assistant [ToolMessage(content='[{\"url\": \"https://www.history.com/topics/us-presidents/barack-obama\", \"content\": \"As in the primaries, Obama\\\\u2019s campaign worked to build support at the grassroots level and used what supporters saw as the candidate\\\\u2019s natural charisma, unusual life story and inspiring message of hope and change to draw impressive crowds to Obama\\\\u2019s public appearances, both in the U.S. and on a campaign trip abroad. A winner of the 2009 Nobel Peace Prize, Obama\\\\u2019s presidency was marked by the landmark passage of the Affordable Care Act, or \\\\u201cObamacare\\\\u201d; the killing of Osama bin Laden by Seal Team Six; the Iran Nuclear Deal and the legalization of gay marriage by the Supreme Court.\\\\n A victory in the Iowa primary made him a viable challenger to the early frontrunner, the former first lady and current New York Senator Hillary Clinton, whom he outlasted in a grueling primary campaign to claim the Democratic nomination in early June 2008.\\\\n Barack Obama\\\\nBy: History.com Editors\\\\nUpdated: May 19, 2022\\\\n| Original: November 9, 2009\\\\nTable of Contents\\\\nBarack Obama, the 44th president of the United States and the first African American president, was elected over Senator John McCain of Arizona on November 4, 2008. He won a scholarship to study economics at the University of Hawaii, where he met and married Ann Dunham, a white woman from Wichita, Kansas, whose father had worked on oil rigs during the Great Depression and fought with the U.S. Army in World War II before moving his family to Hawaii in 1959.\"}, {\"url\": \"https://www.britannica.com/biography/Barack-Obama\", \"content\": \"After working as a writer and editor in Manhattan, Barack Obama became a community organizer in Chicago, lectured on constitutional law at the University of Chicago, worked as a civil rights attorney, and then served in the Illinois Senate (1997\\\\u20132004), as a U.S. senator (2005\\\\u201308), and as U.S. president (2009\\\\u201317).\\\\n He returned to Hawaii in 1971 and lived in a modest apartment, sometimes with his grandparents and sometimes with his\\\\nmother (she remained for a time in Indonesia, returned to Hawaii, and then went abroad again\\\\u2014partly to pursue work on a Ph.D.\\\\u2014before divorcing Soetoro in 1980). Early life\\\\nObama\\\\u2019s father, Barack Obama, Sr., was a teenage goatherd in rural Kenya, won a scholarship to study in the United States, and eventually became a senior economist in the Kenyan government. After serving for a couple of years as a writer and editor for Business International Corp., a research, publishing, and consulting firm in Manhattan, he took a position in 1985 as a community organizer on Chicago\\\\u2019s largely impoverished Far South Side. The memoir, Dreams from My Father (1995), is the story of Obama\\\\u2019s search for his biracial identity by tracing the lives of his now-deceased father and his extended family in Kenya.\"}]', name='tavily_search_results_json', id='f195fc22-07b2-4d63-b95f-d09225a3399e', tool_call_id='4910a842-7f71-4620-8968-e1780cc3e4d3')]\n",
            "Assistant content='Barack Obama is the 44th president of the United States and the first African American president. He was elected over Senator John McCain of Arizona on November 4, 2008. He won a scholarship to study economics at the University of Hawaii, where he met and married Ann Dunham, a white woman from Wichita, Kansas. His presidency was marked by the landmark passage of the Affordable Care Act, or “Obamacare”; the killing of Osama bin Laden by Seal Team Six; the Iran Nuclear Deal and the legalization of gay marriage by the Supreme Court. He was also a winner of the 2009 Nobel Peace Prize.' additional_kwargs={} response_metadata={'prompt_feedback': {'block_reason': 0, 'safety_ratings': []}, 'finish_reason': 'STOP', 'safety_ratings': [{'category': 'HARM_CATEGORY_SEXUALLY_EXPLICIT', 'probability': 'NEGLIGIBLE', 'blocked': False}, {'category': 'HARM_CATEGORY_HATE_SPEECH', 'probability': 'NEGLIGIBLE', 'blocked': False}, {'category': 'HARM_CATEGORY_HARASSMENT', 'probability': 'NEGLIGIBLE', 'blocked': False}, {'category': 'HARM_CATEGORY_DANGEROUS_CONTENT', 'probability': 'NEGLIGIBLE', 'blocked': False}]} id='run-a3e07796-c5b7-46d5-a9ea-1aa96cc8105c-0' usage_metadata={'input_tokens': 804, 'output_tokens': 131, 'total_tokens': 935, 'input_token_details': {'cache_read': 0}}\n",
            "User: q\n",
            "Good bye!\n"
          ]
        }
      ]
    },
    {
      "cell_type": "markdown",
      "source": [
        "**Congratulations!** You've built your first chatbot using LangGraph. This bot can engage in basic conversation by taking user input and generating responses using an LLM. You can inspect a [LangSmith Trace](https://smith.langchain.com/public/7527e308-9502-4894-b347-f34385740d5a/r) for the call above at the provided link.\n",
        "\n",
        "However, you may have noticed that the bot's knowledge is limited to what's in its training data. In the next part, we'll add a web search tool to expand the bot's knowledge and make it more capable.\n",
        "\n",
        "Below is the full code for this section for your reference:\n",
        "\n",
        "<details>\n",
        "<summary>Full Code</summary>\n",
        "    <pre>\n",
        "        \n",
        "```python\n",
        "from typing import Annotated\n",
        "\n",
        "from langchain_anthropic import ChatAnthropic\n",
        "from typing_extensions import TypedDict\n",
        "\n",
        "from langgraph.graph import StateGraph\n",
        "from langgraph.graph.message import add_messages\n",
        "\n",
        "\n",
        "class State(TypedDict):\n",
        "    messages: Annotated[list, add_messages]\n",
        "\n",
        "\n",
        "graph_builder = StateGraph(State)\n",
        "\n",
        "\n",
        "llm = ChatAnthropic(model=\"claude-3-5-sonnet-20240620\")\n",
        "\n",
        "\n",
        "def chatbot(state: State):\n",
        "    return {\"messages\": [llm.invoke(state[\"messages\"])]}\n",
        "\n",
        "\n",
        "# The first argument is the unique node name\n",
        "# The second argument is the function or object that will be called whenever\n",
        "# the node is used.\n",
        "graph_builder.add_node(\"chatbot\", chatbot)\n",
        "graph_builder.set_entry_point(\"chatbot\")\n",
        "graph_builder.set_finish_point(\"chatbot\")\n",
        "graph = graph_builder.compile()\n",
        "```\n",
        "\n",
        "</pre>\n",
        "</details>"
      ],
      "metadata": {
        "id": "-CupGZevBQhu"
      }
    },
    {
      "cell_type": "markdown",
      "source": [
        "## Part 2: Enhancing the Chatbot with Tools\n",
        "\n",
        "To handle queries our chatbot can't answer \"from memory\", we'll integrate a web search tool. Our bot can use this tool to find relevant information and provide better responses.\n",
        "\n",
        "#### Requirements\n",
        "\n",
        "Before we start, make sure you have the necessary packages installed and API keys set up:\n",
        "\n",
        "First, install the requirements to use the [Tavily Search Engine](https://python.langchain.com/docs/integrations/tools/tavily_search/), and set your [TAVILY_API_KEY](https://tavily.com/)."
      ],
      "metadata": {
        "id": "YVCAtgewBkWI"
      }
    },
    {
      "cell_type": "code",
      "source": [
        "%%capture --no-stderr\n",
        "%pip install -U tavily-python langchain_community"
      ],
      "metadata": {
        "id": "j-eLkrRh2XvB"
      },
      "execution_count": 155,
      "outputs": []
    },
    {
      "cell_type": "code",
      "source": [
        "os.environ[\"TAVILY_API_KEY\"] = userdata.get(\"TAVILY_API_KEY\")"
      ],
      "metadata": {
        "id": "beTtst4wZfFS"
      },
      "execution_count": 156,
      "outputs": []
    },
    {
      "cell_type": "markdown",
      "source": [
        "# Next define the tools"
      ],
      "metadata": {
        "id": "l_BGVqqm4acF"
      }
    },
    {
      "cell_type": "code",
      "source": [
        "from langchain_community.tools.tavily_search import TavilySearchResults\n",
        "\n",
        "tool = TavilySearchResults(max_results=2)\n",
        "tools = [tool]\n",
        "tool.invoke(\"Whats the weather in Lahore Today?\")"
      ],
      "metadata": {
        "colab": {
          "base_uri": "https://localhost:8080/"
        },
        "id": "-WLFfFz5ZfA_",
        "outputId": "d0806e2c-d021-4602-a3d6-a44203c245f9"
      },
      "execution_count": 157,
      "outputs": [
        {
          "output_type": "execute_result",
          "data": {
            "text/plain": [
              "[{'url': 'https://www.weatherapi.com/',\n",
              "  'content': \"{'location': {'name': 'Lahore', 'region': 'Punjab', 'country': 'Pakistan', 'lat': 31.5497, 'lon': 74.3436, 'tz_id': 'Asia/Karachi', 'localtime_epoch': 1731146153, 'localtime': '2024-11-09 14:55'}, 'current': {'last_updated_epoch': 1731145500, 'last_updated': '2024-11-09 14:45', 'temp_c': 32.2, 'temp_f': 89.9, 'is_day': 1, 'condition': {'text': 'Sunny', 'icon': '//cdn.weatherapi.com/weather/64x64/day/113.png', 'code': 1000}, 'wind_mph': 2.2, 'wind_kph': 3.6, 'wind_degree': 43, 'wind_dir': 'NE', 'pressure_mb': 1012.0, 'pressure_in': 29.87, 'precip_mm': 0.0, 'precip_in': 0.0, 'humidity': 22, 'cloud': 0, 'feelslike_c': 30.2, 'feelslike_f': 86.4, 'windchill_c': 32.2, 'windchill_f': 89.9, 'heatindex_c': 30.2, 'heatindex_f': 86.4, 'dewpoint_c': 7.7, 'dewpoint_f': 45.8, 'vis_km': 10.0, 'vis_miles': 6.0, 'uv': 2.3, 'gust_mph': 2.3, 'gust_kph': 3.7}}\"},\n",
              " {'url': 'https://world-weather.info/forecast/pakistan/lahore/september-2024/',\n",
              "  'content': 'Detailed ⚡ Lahore Weather Forecast for September 2024 - day/night 🌡️ temperatures, precipitations - World-Weather.info ... 11 +93° +81° 12 +95° +82° 13 ... Extended weather forecast in Lahore. Hourly Week 10-Day 14-Day 30-Day Year.'}]"
            ]
          },
          "metadata": {},
          "execution_count": 157
        }
      ]
    },
    {
      "cell_type": "markdown",
      "source": [
        "The results are page summaries our chat bot can use to answer questions.\n",
        "\n",
        "\n",
        "Next, we'll start defining our graph. The following is all **the same as in Part 1**, except we have added `bind_tools` on our LLM. This lets the LLM know the correct JSON format to use if it wants to use our search engine."
      ],
      "metadata": {
        "id": "-Ml4qKhx_Dku"
      }
    },
    {
      "cell_type": "code",
      "source": [
        "from typing import Annotated\n",
        "from typing_extensions import TypedDict\n",
        "\n",
        "\n",
        "from langgraph.graph import StateGraph, START, END\n",
        "from langgraph.graph.message import add_messages\n",
        "\n",
        "class State(TypedDict):\n",
        "  messages: Annotated[list, add_messages]\n",
        "\n",
        "graph_builder = StateGraph(State)\n",
        "\n",
        "\n",
        "# Modification: tell the LLM which tools it can call\n",
        "llm_with_tools = llm.bind_tools(tools)\n",
        "\n",
        "def chatbot(state: State):\n",
        "  return {\"messages\": llm_with_tools.invoke((state[\"messages\"]))}\n",
        "\n",
        "graph_builder.add_node(\"chatbot\",chatbot)"
      ],
      "metadata": {
        "colab": {
          "base_uri": "https://localhost:8080/"
        },
        "id": "VkCbkPl65t3u",
        "outputId": "9a6ee0d8-fdc9-4ca9-fd87-ba56710aecd8"
      },
      "execution_count": 158,
      "outputs": [
        {
          "output_type": "execute_result",
          "data": {
            "text/plain": [
              "<langgraph.graph.state.StateGraph at 0x7a4710543310>"
            ]
          },
          "metadata": {},
          "execution_count": 158
        }
      ]
    },
    {
      "cell_type": "markdown",
      "source": [
        "Next we need to create a function to actually run the tools if they are called. We'll do this by adding the tools to a new node.\n",
        "\n",
        "Below, we implement a `BasicToolNode` that checks the most recent message in the state and calls tools if the message contains `tool_calls`. It relies on the LLM's `tool_calling` support, which is available in Anthropic, OpenAI, Google Gemini, and a number of other LLM providers.\n",
        "\n",
        "We will later replace this with LangGraph's prebuilt [ToolNode](https://langchain-ai.github.io/langgraph/reference/prebuilt/#toolnode) to speed things up, but building it ourselves first is instructive."
      ],
      "metadata": {
        "id": "ABFbnXVun9MC"
      }
    },
    {
      "cell_type": "code",
      "source": [
        "tools_by_name = {tool.name: tool for tool in tools}\n",
        "print(type(tools_by_name))\n",
        "print(tools_by_name)\n",
        "\n",
        "tools_by_name[\"tavily_search_results_json\"]\n",
        "\n",
        "llm_with_tools.invoke(\"Who won in the 2024 Presidential elections?\")"
      ],
      "metadata": {
        "colab": {
          "base_uri": "https://localhost:8080/"
        },
        "id": "nC1QQo_uE23n",
        "outputId": "4868d1ce-8024-4ebb-bbd0-11ee13efcb9d"
      },
      "execution_count": 159,
      "outputs": [
        {
          "output_type": "stream",
          "name": "stdout",
          "text": [
            "<class 'dict'>\n",
            "{'tavily_search_results_json': TavilySearchResults(max_results=2, api_wrapper=TavilySearchAPIWrapper(tavily_api_key=SecretStr('**********')))}\n"
          ]
        },
        {
          "output_type": "execute_result",
          "data": {
            "text/plain": [
              "AIMessage(content='', additional_kwargs={'function_call': {'name': 'tavily_search_results_json', 'arguments': '{\"query\": \"2024 Presidential elections\"}'}}, response_metadata={'prompt_feedback': {'block_reason': 0, 'safety_ratings': []}, 'finish_reason': 'STOP', 'safety_ratings': [{'category': 'HARM_CATEGORY_DANGEROUS_CONTENT', 'probability': 'NEGLIGIBLE', 'blocked': False}, {'category': 'HARM_CATEGORY_HATE_SPEECH', 'probability': 'NEGLIGIBLE', 'blocked': False}, {'category': 'HARM_CATEGORY_HARASSMENT', 'probability': 'NEGLIGIBLE', 'blocked': False}, {'category': 'HARM_CATEGORY_SEXUALLY_EXPLICIT', 'probability': 'NEGLIGIBLE', 'blocked': False}]}, id='run-be42e5c2-3dc8-43be-87fb-47c0a88f0da5-0', tool_calls=[{'name': 'tavily_search_results_json', 'args': {'query': '2024 Presidential elections'}, 'id': '776c9b16-ebc2-4175-aa44-0a66b717a7c5', 'type': 'tool_call'}], usage_metadata={'input_tokens': 86, 'output_tokens': 25, 'total_tokens': 111, 'input_token_details': {'cache_read': 0}})"
            ]
          },
          "metadata": {},
          "execution_count": 159
        }
      ]
    },
    {
      "cell_type": "code",
      "source": [
        "import json\n",
        "\n",
        "from langchain_core.messages import ToolMessage\n",
        "\n",
        "class BasicToolNode:\n",
        "  \"\"\"A Node that runs the tools requested in the las AIMessage.\"\"\"\n",
        "\n",
        "  def __init__(self, tools: list) -> None:\n",
        "    self.tools_by_name = {tool.name: tool for tool in tools}\n",
        "\n",
        "  def __call__(self, inputs: dict):\n",
        "    if messages := inputs.get(\"messages\", []):\n",
        "      message = messages[-1]\n",
        "    else:\n",
        "      raise ValueError(\"No messages found in input\")\n",
        "    outputs = []\n",
        "    for tool_call in message.tool_calls:\n",
        "      tool_result = self.tools_by_name[tool_call[\"name\"]].invoke(\n",
        "          tool_call[\"args\"]\n",
        "      )\n",
        "      outputs.append(\n",
        "          ToolMessage(\n",
        "              content=json.dumps(tool_result),\n",
        "              name=tool_call[\"name\"],\n",
        "              tool_call_id=tool_call[\"id\"]\n",
        "          )\n",
        "      )\n",
        "\n",
        "    return {\"messages\":outputs}\n",
        "\n",
        "tool_node = BasicToolNode(tools=[tool])\n",
        "graph_builder.add_node(\"tools\",tool_node)"
      ],
      "metadata": {
        "id": "x056L8svpqRV",
        "colab": {
          "base_uri": "https://localhost:8080/"
        },
        "outputId": "4e493034-4421-4a60-eb32-31db5034bcea"
      },
      "execution_count": 160,
      "outputs": [
        {
          "output_type": "execute_result",
          "data": {
            "text/plain": [
              "<langgraph.graph.state.StateGraph at 0x7a4710543310>"
            ]
          },
          "metadata": {},
          "execution_count": 160
        }
      ]
    },
    {
      "cell_type": "code",
      "source": [
        "from langchain_core.messages import HumanMessage, AIMessage\n",
        "\n",
        "messages = [\n",
        "AIMessage(content='',\n",
        "          additional_kwargs={'function_call': {'name': 'tavily_search_results_json', 'arguments': '{\"query\": \"2024 presidential elections polls\"}'}},\n",
        "          response_metadata={'prompt_feedback': {'block_reason': 0, 'safety_ratings': []}, 'finish_reason': 'STOP', 'safety_ratings': []},\n",
        "          id='run-621e608b-24ae-4d50-8605-33415037f7df-0',\n",
        "          tool_calls=[{'name': 'tavily_search_results_json', 'args': {'query': '2024 presidential elections polls'}, 'id': '826c7148-a96a-4f79-9c64-325c97489d5e', 'type': 'tool_call'}],\n",
        "          usage_metadata={'input_tokens': 90, 'output_tokens': 16, 'total_tokens': 106, 'input_token_details': {'cache_read': 0}})\n",
        "]\n",
        "\n",
        "tool_node(inputs={\"messages\": messages})"
      ],
      "metadata": {
        "colab": {
          "base_uri": "https://localhost:8080/"
        },
        "id": "UG5r8b01LEMM",
        "outputId": "96c29f07-9de6-46fc-de05-52f79acbec56"
      },
      "execution_count": 161,
      "outputs": [
        {
          "output_type": "execute_result",
          "data": {
            "text/plain": [
              "{'messages': [ToolMessage(content='[{\"url\": \"https://projects.fivethirtyeight.com/2024-election-forecast/\", \"content\": \"With the 2024 presidential election a week away, 538\\'s Galen Druke and G. Elliott Morris discuss the relevancy of early voting data. October 29, 2024. The 2024 election could hinge on Pennsylvania. ... What the polls say about the 2024 election.\"}, {\"url\": \"https://www.bbc.com/news/articles/cj4x71znwxdo\", \"content\": \"US election polls 2024: Who is ahead - Harris or Trump? US election polls: Who is ahead - Harris or Trump? In a sign of how the race has changed since Harris became the Democratic nominee, on the day Joe Biden quit the race he was trailing Trump by nearly five percentage points on average in these seven battleground states. At the moment, the polls suggest that Kamala Harris and Donald Trump are within a couple of percentage points of each other both nationally and in battleground states - and when the race is that close, it\\\\u2019s very hard to predict winners. Read more about: Kamala Harris | Donald Trump | US election\"}]', name='tavily_search_results_json', tool_call_id='826c7148-a96a-4f79-9c64-325c97489d5e')]}"
            ]
          },
          "metadata": {},
          "execution_count": 161
        }
      ]
    },
    {
      "cell_type": "markdown",
      "source": [
        "With the tool node added, we can define the `conditional_edges`.\n",
        "\n",
        "Recall that **edges** route the control flow from one node to the next. **Conditional edges** usually contain \"if\" statements to route to different nodes depending on the current graph state. These functions receive the current graph `state` and return a string or list of strings indicating which node(s) to call next.\n",
        "\n",
        "Below, call define a router function called `route_tools`, that checks for tool_calls in the chatbot's output. Provide this function to the graph by calling `add_conditional_edges`, which tells the graph that whenever the `chatbot` node completes to check this function to see where to go next.\n",
        "\n",
        "The condition will route to `tools` if tool calls are present and `END` if not.\n",
        "\n",
        "Later, we will replace this with the prebuilt [tools_condition](https://langchain-ai.github.io/langgraph/reference/prebuilt/#tools_condition) to be more concise, but implementing it ourselves first makes things more clear."
      ],
      "metadata": {
        "id": "wS8LeKeXj-Qy"
      }
    },
    {
      "cell_type": "code",
      "source": [
        "from typing import Literal\n",
        "\n",
        "\n",
        "def route_tools(\n",
        "    state: State,\n",
        "):\n",
        "    \"\"\"\n",
        "    Use in the conditional_edge to route to the ToolNode if the last message\n",
        "    has tool calls. Otherwise, route to the end.\n",
        "    \"\"\"\n",
        "    if isinstance(state, list):\n",
        "        ai_message = state[-1]\n",
        "    elif messages := state.get(\"messages\", []):\n",
        "        ai_message = messages[-1]\n",
        "    else:\n",
        "        raise ValueError(f\"No messages found in input state to tool_edge: {state}\")\n",
        "    if hasattr(ai_message, \"tool_calls\") and len(ai_message.tool_calls) > 0:\n",
        "        return \"tools\"\n",
        "    return END\n",
        "\n",
        "\n",
        "# The `tools_condition` function returns \"tools\" if the chatbot asks to use a tool, and \"END\" if\n",
        "# it is fine directly responding. This conditional routing defines the main agent loop.\n",
        "graph_builder.add_conditional_edges(\n",
        "    \"chatbot\",\n",
        "    route_tools,\n",
        "    # The following dictionary lets you tell the graph to interpret the condition's outputs as a specific node\n",
        "    # It defaults to the identity function, but if you\n",
        "    # want to use a node named something else apart from \"tools\",\n",
        "    # You can update the value of the dictionary to something else\n",
        "    # e.g., \"tools\": \"my_tools\"\n",
        "    {\"tools\": \"tools\", END: END},\n",
        ")\n",
        "# Any time a tool is called, we return to the chatbot to decide the next step\n",
        "graph_builder.add_edge(\"tools\", \"chatbot\")\n",
        "graph_builder.add_edge(START, \"chatbot\")\n",
        "graph = graph_builder.compile()"
      ],
      "metadata": {
        "id": "8guzzeRJjr37"
      },
      "execution_count": 162,
      "outputs": []
    },
    {
      "cell_type": "markdown",
      "source": [
        "**Notice** that conditional edges start from a single node. This tells the graph \"any time the '`chatbot`' node runs, either go to 'tools' if it calls a tool, or end the loop if it responds directly.\n",
        "\n",
        "Like the prebuilt `tools_condition`, our function returns the `END` string if no tool calls are made. When the graph transitions to `END`, it has no more tasks to complete and ceases execution. Because the condition can return `END`, we don't need to explicitly set a `finish_point` this time. Our graph already has a way to finish!\n",
        "\n",
        "Let's visualize the graph we've built. The following function has some additional dependencies to run that are unimportant for this tutorial."
      ],
      "metadata": {
        "id": "-IW5voxqyyTf"
      }
    },
    {
      "cell_type": "code",
      "source": [
        "from IPython.display import Image, display\n",
        "\n",
        "try:\n",
        "  display(Image(graph.get_graph().draw_mermaid_png()))\n",
        "except Exception:\n",
        "      # This requires some extra dependencies and is optional\n",
        "      pass"
      ],
      "metadata": {
        "colab": {
          "base_uri": "https://localhost:8080/",
          "height": 266
        },
        "id": "xfYkdBOayqeS",
        "outputId": "103af658-ac2c-4bf2-ff77-e5f01e7f7b6d"
      },
      "execution_count": 163,
      "outputs": [
        {
          "output_type": "display_data",
          "data": {
            "image/jpeg": "[encoded data removed]",
            "text/plain": [
              "<IPython.core.display.Image object>"
            ]
          },
          "metadata": {}
        }
      ]
    },
    {
      "cell_type": "markdown",
      "source": [
        "Now we can ask the bot questions outside its training data.\n",
        "\n",
        "---\n",
        "\n"
      ],
      "metadata": {
        "id": "Smi_1GLqEH51"
      }
    },
    {
      "cell_type": "code",
      "source": [
        "while True:\n",
        "  try:\n",
        "    user_input = input()\n",
        "    if user_input.lower() in [\"exit\",\"quit\",\"q\"]:\n",
        "      print(\"Good bye!\")\n",
        "      break\n",
        "    stream_graph_updates(user_input)\n",
        "  except:\n",
        "    # fallback if input() is not available\n",
        "    user_input = \"What do you about LangGraph?\"\n",
        "    print(\"User: \"+ user_input)\n",
        "    stream_graph_updates(user_input)\n",
        "    break"
      ],
      "metadata": {
        "colab": {
          "base_uri": "https://localhost:8080/"
        },
        "id": "YJ-YiIF6zn79",
        "outputId": "65fddf42-301a-41d2-ea5b-a5b1e0a76fd3"
      },
      "execution_count": 164,
      "outputs": [
        {
          "output_type": "stream",
          "name": "stdout",
          "text": [
            "Who won US 2024 elections?\n",
            "Assistant content='' additional_kwargs={'function_call': {'name': 'tavily_search_results_json', 'arguments': '{\"query\": \"Who won US 2024 elections?\"}'}} response_metadata={'prompt_feedback': {'block_reason': 0, 'safety_ratings': []}, 'finish_reason': 'STOP', 'safety_ratings': [{'category': 'HARM_CATEGORY_HATE_SPEECH', 'probability': 'NEGLIGIBLE', 'blocked': False}, {'category': 'HARM_CATEGORY_HARASSMENT', 'probability': 'NEGLIGIBLE', 'blocked': False}, {'category': 'HARM_CATEGORY_DANGEROUS_CONTENT', 'probability': 'NEGLIGIBLE', 'blocked': False}, {'category': 'HARM_CATEGORY_SEXUALLY_EXPLICIT', 'probability': 'NEGLIGIBLE', 'blocked': False}]} id='run-06591749-3400-4938-a45e-3fa1882a0198-0' tool_calls=[{'name': 'tavily_search_results_json', 'args': {'query': 'Who won US 2024 elections?'}, 'id': '1a4ddef8-8750-4ea1-98a7-7c2039c09620', 'type': 'tool_call'}] usage_metadata={'input_tokens': 84, 'output_tokens': 29, 'total_tokens': 113, 'input_token_details': {'cache_read': 0}}\n",
            "Assistant [ToolMessage(content='[{\"url\": \"https://www.latimes.com/politics/story/2024-11-06/trump-defeats-harris-47th-president-election-2024\", \"content\": \"Trump wins 2024 U.S. presidential election - Los Angeles Times Trump elected 47th president of the United States, defeating Harris to retake White House Nancy Northup, President and CEO of the Center for Reproductive Rights, called Trump\\\\u2019s win \\\\u201ca deadly threat to the democratic values of liberty and equality, the rule of law, and reproductive health, rights, and justice in the United States and around the globe.\\\\u201d \\\\u201cThe Democrats thought there were enough people who hated Trump or were willing to fear him to win the race,\\\\u201d Jennings said. 2024 election results: Trump wins second term in historic comeback\"}, {\"url\": \"https://www.bbc.com/news/election/2024/us/results\", \"content\": \"US Presidential Election Results 2024 - BBC News Close menu BBC News Kamala Harris of the Democrat party has 0 electoral college votes. Donald Trump of the Republican party has 0 electoral college votes. Kamala Harris of the Democrat party has 158,810 votes (38.4%) Donald Trump of the Republican party has 249,225 votes (60.2%) US presidential election results 2024 US election 2024 Voting in some states is particularly hard to predict, with polls showing they could be won by the Republicans or the Democratic party. The battleground states that could decide the 2024 presidential election are: Voters in 11 states will also elect a governor. US election polls: Who is ahead - Harris or Trump? US election 2024 About the BBC\"}]', name='tavily_search_results_json', id='cf75da4d-e363-4ef5-9ca0-205d970c1508', tool_call_id='1a4ddef8-8750-4ea1-98a7-7c2039c09620')]\n",
            "Assistant content='According to the Los Angeles Times, Donald Trump won the 2024 US presidential election, defeating Kamala Harris. \\n' additional_kwargs={} response_metadata={'prompt_feedback': {'block_reason': 0, 'safety_ratings': []}, 'finish_reason': 'STOP', 'safety_ratings': [{'category': 'HARM_CATEGORY_SEXUALLY_EXPLICIT', 'probability': 'NEGLIGIBLE', 'blocked': False}, {'category': 'HARM_CATEGORY_HATE_SPEECH', 'probability': 'NEGLIGIBLE', 'blocked': False}, {'category': 'HARM_CATEGORY_HARASSMENT', 'probability': 'NEGLIGIBLE', 'blocked': False}, {'category': 'HARM_CATEGORY_DANGEROUS_CONTENT', 'probability': 'NEGLIGIBLE', 'blocked': False}]} id='run-c69bb805-91bd-4d90-bd0b-3130467040b0-0' usage_metadata={'input_tokens': 524, 'output_tokens': 24, 'total_tokens': 548, 'input_token_details': {'cache_read': 0}}\n",
            "What is the wather right now in Sheikhupura?\n",
            "Assistant content='' additional_kwargs={'function_call': {'name': 'tavily_search_results_json', 'arguments': '{\"query\": \"weather in Sheikhupura\"}'}} response_metadata={'prompt_feedback': {'block_reason': 0, 'safety_ratings': []}, 'finish_reason': 'STOP', 'safety_ratings': [{'category': 'HARM_CATEGORY_HARASSMENT', 'probability': 'NEGLIGIBLE', 'blocked': False}, {'category': 'HARM_CATEGORY_DANGEROUS_CONTENT', 'probability': 'NEGLIGIBLE', 'blocked': False}, {'category': 'HARM_CATEGORY_SEXUALLY_EXPLICIT', 'probability': 'NEGLIGIBLE', 'blocked': False}, {'category': 'HARM_CATEGORY_HATE_SPEECH', 'probability': 'NEGLIGIBLE', 'blocked': False}]} id='run-72d068fd-9531-4418-a0a8-b2be8a1b84f2-0' tool_calls=[{'name': 'tavily_search_results_json', 'args': {'query': 'weather in Sheikhupura'}, 'id': '48582e82-1950-4110-b345-ebbf1bf13021', 'type': 'tool_call'}] usage_metadata={'input_tokens': 86, 'output_tokens': 24, 'total_tokens': 110, 'input_token_details': {'cache_read': 0}}\n",
            "Assistant [ToolMessage(content='[{\"url\": \"https://www.weatherapi.com/\", \"content\": \"{\\'location\\': {\\'name\\': \\'Sheikhupura\\', \\'region\\': \\'Punjab\\', \\'country\\': \\'Pakistan\\', \\'lat\\': 31.7131, \\'lon\\': 73.9783, \\'tz_id\\': \\'Asia/Karachi\\', \\'localtime_epoch\\': 1731146303, \\'localtime\\': \\'2024-11-09 14:58\\'}, \\'current\\': {\\'last_updated_epoch\\': 1731145500, \\'last_updated\\': \\'2024-11-09 14:45\\', \\'temp_c\\': 32.3, \\'temp_f\\': 90.1, \\'is_day\\': 1, \\'condition\\': {\\'text\\': \\'Sunny\\', \\'icon\\': \\'//cdn.weatherapi.com/weather/64x64/day/113.png\\', \\'code\\': 1000}, \\'wind_mph\\': 3.1, \\'wind_kph\\': 5.0, \\'wind_degree\\': 76, \\'wind_dir\\': \\'ENE\\', \\'pressure_mb\\': 1012.0, \\'pressure_in\\': 29.87, \\'precip_mm\\': 0.0, \\'precip_in\\': 0.0, \\'humidity\\': 22, \\'cloud\\': 2, \\'feelslike_c\\': 30.3, \\'feelslike_f\\': 86.5, \\'windchill_c\\': 32.3, \\'windchill_f\\': 90.1, \\'heatindex_c\\': 30.3, \\'heatindex_f\\': 86.5, \\'dewpoint_c\\': 7.7, \\'dewpoint_f\\': 45.8, \\'vis_km\\': 10.0, \\'vis_miles\\': 6.0, \\'uv\\': 2.2, \\'gust_mph\\': 3.6, \\'gust_kph\\': 5.8}}\"}, {\"url\": \"https://www.weatheravenue.com/en/asia/pk/punjab/sheikhupura-weather-15-days.html\", \"content\": \"\\\\u263c Sheikhupura Punjab Pakistan 15 Day Weather Forecast. Today Sheikhupura Punjab Pakistan: Clear with a temperature of 21\\\\u00b0C and a wind South-South-East speed of 0 Km/h. ... Saturday 09 November 2024 . Sheikhupura. Sunny : 33\\\\u00b0C 92\\\\u00b0F | 22\\\\u00b0C 71\\\\u00b0F : 6 Km/h 4 mph: 0% : 22% . ... Monday 11 November 2024 . Sheikhupura. Patchy rain nearby : 34\\\\u00b0C\"}]', name='tavily_search_results_json', id='602f4554-298c-4bf1-8616-ba8904079aab', tool_call_id='48582e82-1950-4110-b345-ebbf1bf13021')]\n",
            "Assistant content='The weather in Sheikhupura, Punjab, Pakistan is currently sunny with a temperature of 32.3 degrees Celsius. The wind is blowing from the east-northeast at 5.0 kilometers per hour. The humidity is 22%. \\n' additional_kwargs={} response_metadata={'prompt_feedback': {'block_reason': 0, 'safety_ratings': []}, 'finish_reason': 'STOP', 'safety_ratings': [{'category': 'HARM_CATEGORY_SEXUALLY_EXPLICIT', 'probability': 'NEGLIGIBLE', 'blocked': False}, {'category': 'HARM_CATEGORY_HATE_SPEECH', 'probability': 'NEGLIGIBLE', 'blocked': False}, {'category': 'HARM_CATEGORY_HARASSMENT', 'probability': 'NEGLIGIBLE', 'blocked': False}, {'category': 'HARM_CATEGORY_DANGEROUS_CONTENT', 'probability': 'NEGLIGIBLE', 'blocked': False}]} id='run-d9abd07a-a310-49aa-b668-7238d08f22f7-0' usage_metadata={'input_tokens': 835, 'output_tokens': 50, 'total_tokens': 885, 'input_token_details': {'cache_read': 0}}\n",
            "Can tell me any updates on US Government C Language  replacement?\n",
            "Assistant content='' additional_kwargs={'function_call': {'name': 'tavily_search_results_json', 'arguments': '{\"query\": \"US Government C Language replacement\"}'}} response_metadata={'prompt_feedback': {'block_reason': 0, 'safety_ratings': []}, 'finish_reason': 'STOP', 'safety_ratings': [{'category': 'HARM_CATEGORY_DANGEROUS_CONTENT', 'probability': 'NEGLIGIBLE', 'blocked': False}, {'category': 'HARM_CATEGORY_SEXUALLY_EXPLICIT', 'probability': 'NEGLIGIBLE', 'blocked': False}, {'category': 'HARM_CATEGORY_HATE_SPEECH', 'probability': 'NEGLIGIBLE', 'blocked': False}, {'category': 'HARM_CATEGORY_HARASSMENT', 'probability': 'NEGLIGIBLE', 'blocked': False}]} id='run-ef5a7b5c-97ee-4ce7-8a9a-b802befa835f-0' tool_calls=[{'name': 'tavily_search_results_json', 'args': {'query': 'US Government C Language replacement'}, 'id': '92584e34-6f9e-4f9f-978e-910979ee9b6e', 'type': 'tool_call'}] usage_metadata={'input_tokens': 87, 'output_tokens': 24, 'total_tokens': 111, 'input_token_details': {'cache_read': 0}}\n",
            "Assistant [ToolMessage(content='[{\"url\": \"https://thenewstack.io/feds-critical-software-must-drop-c-c-by-2026-or-face-risk/\", \"content\": \"C++ / Security / Software Development. Feds: Critical Software Must Drop C/C++ by 2026 or Face Risk. This is the government\\'s strongest stance yet on software security, which puts manufacturers on notice: fix dangerous coding practices or risk being labeled as negligent. Oct 31st, 2024 11:00am by Darryl K. Taft. Featured image via Unsplash+.\"}, {\"url\": \"https://www.tomshardware.com/software/security-software/white-house-urges-developers-to-avoid-c-and-c-use-memory-safe-programming-languages\", \"content\": \"The government would prefer it if you stopped programming tools in C or C++. In a new report, the White House Office of the National Cyber Director (ONCD) has called on developers to use \\\\\"memory\"}]', name='tavily_search_results_json', id='ebdacd33-fff0-4eb5-97e7-d26571b398de', tool_call_id='92584e34-6f9e-4f9f-978e-910979ee9b6e')]\n",
            "Assistant content='The US government is urging developers to stop using C and C++ for critical software and switch to more secure languages. The White House Office of the National Cyber Director (ONCD) has published a report calling for developers to use \"memory-safe\" programming languages, due to the security risks associated with C and C++. This is the government\\'s strongest stance yet on software security, and it puts manufacturers on notice that they must fix their coding practices or risk being labeled as negligent. \\n' additional_kwargs={} response_metadata={'prompt_feedback': {'block_reason': 0, 'safety_ratings': []}, 'finish_reason': 'STOP', 'safety_ratings': [{'category': 'HARM_CATEGORY_SEXUALLY_EXPLICIT', 'probability': 'NEGLIGIBLE', 'blocked': False}, {'category': 'HARM_CATEGORY_HATE_SPEECH', 'probability': 'NEGLIGIBLE', 'blocked': False}, {'category': 'HARM_CATEGORY_HARASSMENT', 'probability': 'NEGLIGIBLE', 'blocked': False}, {'category': 'HARM_CATEGORY_DANGEROUS_CONTENT', 'probability': 'NEGLIGIBLE', 'blocked': False}]} id='run-cc35737c-6593-4733-8246-c05beb25df48-0' usage_metadata={'input_tokens': 361, 'output_tokens': 97, 'total_tokens': 458, 'input_token_details': {'cache_read': 0}}\n",
            "Who is Quaid-e-Azam?\n",
            "Assistant content='' additional_kwargs={'function_call': {'name': 'tavily_search_results_json', 'arguments': '{\"query\": \"Who is Quaid-e-Azam?\"}'}} response_metadata={'prompt_feedback': {'block_reason': 0, 'safety_ratings': []}, 'finish_reason': 'STOP', 'safety_ratings': [{'category': 'HARM_CATEGORY_DANGEROUS_CONTENT', 'probability': 'NEGLIGIBLE', 'blocked': False}, {'category': 'HARM_CATEGORY_HARASSMENT', 'probability': 'NEGLIGIBLE', 'blocked': False}, {'category': 'HARM_CATEGORY_HATE_SPEECH', 'probability': 'NEGLIGIBLE', 'blocked': False}, {'category': 'HARM_CATEGORY_SEXUALLY_EXPLICIT', 'probability': 'NEGLIGIBLE', 'blocked': False}]} id='run-ad428b64-44a4-43e4-9234-27f098a6077d-0' tool_calls=[{'name': 'tavily_search_results_json', 'args': {'query': 'Who is Quaid-e-Azam?'}, 'id': 'c5834b90-2727-4db5-9179-7c62ebe1f7c0', 'type': 'tool_call'}] usage_metadata={'input_tokens': 84, 'output_tokens': 29, 'total_tokens': 113, 'input_token_details': {'cache_read': 0}}\n",
            "Assistant [ToolMessage(content='[{\"url\": \"https://www.regentstudies.com/2024/07/22/quaid-e-azam/\", \"content\": \"Quaid-e-Azam, born Mohammad Ali Jinnah on December 25, 1876, in Karachi, was the eldest of seven children. His father, Jinnahbhai Poonja, was a prosperous merchant, and his mother, Mithibai, instilled in him a strong sense of duty and responsibility. The family\\'s commitment to education and hard work played a crucial role in shaping Jinnah\"}, {\"url\": \"https://worldhistoryedu.com/muhammad-ali-jinnah-biography-major-achievements-other-facts/\", \"content\": \"Popularly known as \\'Quaid-e-Azam\\' in Pakistan, Muhammad Jinnah was the leader of the All-India Muslim League from 1913 till Pakistan gained independence in August 1947. He served as the country\\'s first Governor-General until his death in 1948. By founding Pakistan, Jinnah gave its people a sense of identity, territory and a sense of destiny.\"}]', name='tavily_search_results_json', id='8e0abe73-e390-4c6d-afc9-3ad7d3bc215e', tool_call_id='c5834b90-2727-4db5-9179-7c62ebe1f7c0')]\n",
            "Assistant content=\"Quaid-e-Azam, born Mohammad Ali Jinnah on December 25, 1876, in Karachi, was the eldest of seven children. His father, Jinnahbhai Poonja, was a prosperous merchant, and his mother, Mithibai, instilled in him a strong sense of duty and responsibility. The family's commitment to education and hard work played a crucial role in shaping Jinnah.  He was the leader of the All-India Muslim League from 1913 till Pakistan gained independence in August 1947. He served as the country's first Governor-General until his death in 1948. By founding Pakistan, Jinnah gave its people a sense of identity, territory and a sense of destiny. \\n\" additional_kwargs={} response_metadata={'prompt_feedback': {'block_reason': 0, 'safety_ratings': []}, 'finish_reason': 'STOP', 'safety_ratings': [{'category': 'HARM_CATEGORY_SEXUALLY_EXPLICIT', 'probability': 'NEGLIGIBLE', 'blocked': False}, {'category': 'HARM_CATEGORY_HATE_SPEECH', 'probability': 'NEGLIGIBLE', 'blocked': False}, {'category': 'HARM_CATEGORY_HARASSMENT', 'probability': 'NEGLIGIBLE', 'blocked': False}, {'category': 'HARM_CATEGORY_DANGEROUS_CONTENT', 'probability': 'NEGLIGIBLE', 'blocked': False}]} id='run-df1debb3-43b3-481b-a6e2-b0f7b027e16e-0' usage_metadata={'input_tokens': 385, 'output_tokens': 160, 'total_tokens': 545, 'input_token_details': {'cache_read': 0}}\n",
            "quit\n",
            "Good bye!\n"
          ]
        }
      ]
    },
    {
      "cell_type": "code",
      "source": [],
      "metadata": {
        "id": "9t0FWPmgF4Pv"
      },
      "execution_count": null,
      "outputs": []
    }
  ]
}