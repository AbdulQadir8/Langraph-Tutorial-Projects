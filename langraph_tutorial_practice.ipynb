{
  "nbformat": 4,
  "nbformat_minor": 0,
  "metadata": {
    "colab": {
      "provenance": [],
      "authorship_tag": "ABX9TyNAskYZ0+fR6p5Q6o4Tfu11",
      "include_colab_link": true
    },
    "kernelspec": {
      "name": "python3",
      "display_name": "Python 3"
    },
    "language_info": {
      "name": "python"
    }
  },
  "cells": [
    {
      "cell_type": "markdown",
      "metadata": {
        "id": "view-in-github",
        "colab_type": "text"
      },
      "source": [
        "<a href=\"https://colab.research.google.com/github/AbdulQadir8/Langraph-Tutorial-Projects/blob/master/langraph_tutorial_practice.ipynb\" target=\"_parent\"><img src=\"https://colab.research.google.com/assets/colab-badge.svg\" alt=\"Open In Colab\"/></a>"
      ]
    },
    {
      "cell_type": "code",
      "execution_count": null,
      "metadata": {
        "id": "Oiivz0awra6z"
      },
      "outputs": [],
      "source": [
        "%%capture --no-stderr\n",
        "%pip install -U langgraph langsmith langchain_google_genai"
      ]
    },
    {
      "cell_type": "code",
      "source": [
        "import os\n",
        "from google.colab import userdata\n",
        "\n",
        "os.environ[\"LANGCHAIN_API_KEY\"] = userdata.get('LANGCHAIN_API_KEY')\n",
        "os.environ[\"LANGCHAIN_TRACING_V2\"] = \"true\"\n",
        "os.environ[\"LANGCHAIN_PROJECT\"] = \"quickstart\"\n",
        "\n",
        "gemini_api_key = userdata.get(\"GEMINI_API_KEY\")"
      ],
      "metadata": {
        "id": "ipLj82yktpjR"
      },
      "execution_count": null,
      "outputs": []
    },
    {
      "cell_type": "code",
      "source": [
        "from langchain_google_genai import ChatGoogleGenerativeAI\n",
        "\n",
        "llm = ChatGoogleGenerativeAI(\n",
        "    model='gemini-1.5-flash',\n",
        "    max_retries=2,\n",
        "    api_key=gemini_api_key\n",
        ")\n",
        "\n",
        "llm.invoke('greet me')"
      ],
      "metadata": {
        "colab": {
          "base_uri": "https://localhost:8080/"
        },
        "id": "-1JhMJplt-ZU",
        "outputId": "24ddfc10-1355-4dee-8553-c3847a423608"
      },
      "execution_count": null,
      "outputs": [
        {
          "output_type": "execute_result",
          "data": {
            "text/plain": [
              "AIMessage(content='Hello there! How can I help you today? \\n', additional_kwargs={}, response_metadata={'prompt_feedback': {'block_reason': 0, 'safety_ratings': []}, 'finish_reason': 'STOP', 'safety_ratings': [{'category': 'HARM_CATEGORY_SEXUALLY_EXPLICIT', 'probability': 'NEGLIGIBLE', 'blocked': False}, {'category': 'HARM_CATEGORY_HATE_SPEECH', 'probability': 'NEGLIGIBLE', 'blocked': False}, {'category': 'HARM_CATEGORY_HARASSMENT', 'probability': 'NEGLIGIBLE', 'blocked': False}, {'category': 'HARM_CATEGORY_DANGEROUS_CONTENT', 'probability': 'NEGLIGIBLE', 'blocked': False}]}, id='run-4f21032d-c2c1-45c2-a19b-41f1891b6cf8-0', usage_metadata={'input_tokens': 3, 'output_tokens': 10, 'total_tokens': 13, 'input_token_details': {'cache_read': 0}})"
            ]
          },
          "metadata": {},
          "execution_count": 34
        }
      ]
    },
    {
      "cell_type": "markdown",
      "source": [
        "## Part 1: Build a Basic Chatbot\n",
        "\n",
        "We'll first create a simple chatbot using LangGraph. This chatbot will respond directly to user messages. Though simple, it will illustrate the core concepts of building with LangGraph. By the end of this section, you will have a built rudimentary chatbot.\n",
        "\n",
        "Start by creating a `StateGraph`. A `StateGraph` object defines the structure of our chatbot as a \"state machine\". We'll add `nodes` to represent the llm and functions our chatbot can call and `edges` to specify how the bot should transition between these functions."
      ],
      "metadata": {
        "id": "w_hI-vtlvLRl"
      }
    },
    {
      "cell_type": "code",
      "source": [
        "from typing import Annotated\n",
        "from typing_extensions import TypedDict\n",
        "\n",
        "\n",
        "from langgraph.graph import StateGraph, START, END\n",
        "from langgraph.graph.message import add_messages\n",
        "\n",
        "\n",
        "class State(TypedDict):\n",
        "  # Messages have the type \"list\". The `add_messages` function\n",
        "  # in the annotation defines how this state key should be updated\n",
        "  # (in this case, it appends messages to the list, rather than overwriting them)\n",
        "  messages: Annotated[list, add_messages]\n",
        "\n",
        "graph_builder = StateGraph(State)"
      ],
      "metadata": {
        "id": "J2RBbHbLutup"
      },
      "execution_count": null,
      "outputs": []
    },
    {
      "cell_type": "code",
      "source": [
        "# Example usage of add_messages\n",
        "new_messages_1 = [{\"role\": \"user\", \"content\": \"Hello\"}]\n",
        "new_messages_2 = [{\"role\": \"ai\", \"content\": \"Hi there!\"}]\n",
        "\n",
        "updated_state_1 = add_messages(new_messages_1, new_messages_2)\n",
        "\n",
        "\n",
        "print(\"Updated State 1:\", updated_state_1)\n",
        "\n",
        "# from typing import Annotated\n",
        "# from typing_extensions import TypedDict\n",
        "# from langgraph.graph import StateGraph\n",
        "\n",
        "# class State(TypedDict):\n",
        "#     messages: Annotated[list, add_messages]\n",
        "\n",
        "# builder = StateGraph(State)\n",
        "# builder.add_node(\"chatbot\", lambda state: {\"messages\": [(\"assistant\", \"Hello\")]})\n",
        "# builder.set_entry_point(\"chatbot\")\n",
        "# builder.set_finish_point(\"chatbot\")\n",
        "# graph = builder.compile()\n",
        "# graph.invoke({\"messages\": [{\"role\": \"user\", \"content\": \"Hello\"}]})"
      ],
      "metadata": {
        "colab": {
          "base_uri": "https://localhost:8080/"
        },
        "id": "5PdOc5W0xs-l",
        "outputId": "33bbe467-be2e-495d-b934-071c44033273"
      },
      "execution_count": null,
      "outputs": [
        {
          "output_type": "stream",
          "name": "stdout",
          "text": [
            "Updated State 1: [HumanMessage(content='Hello', additional_kwargs={}, response_metadata={}, id='6858c1cb-286c-4ba4-a71b-f8d50a7cfeb9'), AIMessage(content='Hi there!', additional_kwargs={}, response_metadata={}, id='367dfa8d-dc7d-4fee-9fdd-5d9f28844330')]\n"
          ]
        }
      ]
    },
    {
      "cell_type": "markdown",
      "source": [
        "So now our graph knows two things:\n",
        "\n",
        "1. Every `node` we define will receive the current `State` as input and return a value that updates that state.\n",
        "2. `messages` will be _appended_ to the current list, rather than directly overwritten. This is communicated via the prebuilt [`add_messages`](https://langchain-ai.github.io/langgraph/reference/graphs/?h=add+messages#add_messages) function in the `Annotated` syntax.\n",
        "\n",
        "Next, add a \"`chatbot`\" node. Nodes represent units of work. They are typically regular python functions."
      ],
      "metadata": {
        "id": "qWDmHwi_jrRC"
      }
    },
    {
      "cell_type": "code",
      "source": [
        "def chatbot(state: State):\n",
        "  return {\"messages\":[llm.invoke(state[\"messages\"])]}\n",
        "\n",
        "# The first argument is the unique node name\n",
        "# The second argument is the function or object that will be called whenever\n",
        "# the node is used.\n",
        "graph_builder.add_node(\"chatbot\",chatbot)"
      ],
      "metadata": {
        "colab": {
          "base_uri": "https://localhost:8080/"
        },
        "id": "jCs0zITnajk0",
        "outputId": "77df7f16-f454-4fe1-868d-4f1989355569"
      },
      "execution_count": null,
      "outputs": [
        {
          "output_type": "execute_result",
          "data": {
            "text/plain": [
              "<langgraph.graph.state.StateGraph at 0x7d9047fb4d30>"
            ]
          },
          "metadata": {},
          "execution_count": 37
        }
      ]
    },
    {
      "cell_type": "markdown",
      "source": [
        "**Notice** how the `chatbot` node function takes the current `State` as input and returns a dictionary containing an updated `messages` list under the key \"messages\". This is the basic pattern for all LangGraph node functions.\n",
        "\n",
        "The `add_messages` function in our `State` will append the llm's response messages to whatever messages are already in the state.\n",
        "\n",
        "Next, add an `entry` point. This tells our graph **where to start its work** each time we run it."
      ],
      "metadata": {
        "id": "A0dXMxRSwydc"
      }
    },
    {
      "cell_type": "code",
      "source": [
        "graph_builder.add_edge(START, \"chatbot\")"
      ],
      "metadata": {
        "colab": {
          "base_uri": "https://localhost:8080/"
        },
        "id": "4xSESPa6k3Nm",
        "outputId": "f971366c-a482-42f2-b5a9-086b05ca2ec4"
      },
      "execution_count": null,
      "outputs": [
        {
          "output_type": "execute_result",
          "data": {
            "text/plain": [
              "<langgraph.graph.state.StateGraph at 0x7d9047fb4d30>"
            ]
          },
          "metadata": {},
          "execution_count": 38
        }
      ]
    },
    {
      "cell_type": "markdown",
      "source": [
        "Similarly, set a `finish` point. This instructs the graph **\"any time this node\n",
        "is run, you can exit.\"**"
      ],
      "metadata": {
        "id": "tqI1GFpKxME3"
      }
    },
    {
      "cell_type": "code",
      "source": [
        "graph_builder.add_edge(\"chatbot\", END)"
      ],
      "metadata": {
        "colab": {
          "base_uri": "https://localhost:8080/"
        },
        "id": "UnDGF9b-w-zN",
        "outputId": "5f613b15-5fc6-4ca9-950a-c54849be1b77"
      },
      "execution_count": null,
      "outputs": [
        {
          "output_type": "execute_result",
          "data": {
            "text/plain": [
              "<langgraph.graph.state.StateGraph at 0x7d9047fb4d30>"
            ]
          },
          "metadata": {},
          "execution_count": 39
        }
      ]
    },
    {
      "cell_type": "markdown",
      "source": [],
      "metadata": {
        "id": "yokptS0pzV8D"
      }
    },
    {
      "cell_type": "code",
      "source": [
        "graph = graph_builder.compile()"
      ],
      "metadata": {
        "id": "-kjfW7sKxxJ7"
      },
      "execution_count": null,
      "outputs": []
    },
    {
      "cell_type": "markdown",
      "source": [
        "You can visualize the graph using the `get_graph` method and one of the \"draw\"\n",
        "\n",
        "---\n",
        "\n",
        "methods, like `draw_ascii` or `draw_png`. The `draw` methods each require additional dependencies."
      ],
      "metadata": {
        "id": "XhTPsvSSzZ0r"
      }
    },
    {
      "cell_type": "code",
      "source": [
        "from IPython.display import Image, display\n",
        "\n",
        "try:\n",
        "  display(Image(graph.get_graph().draw_mermaid_png()))\n",
        "except:\n",
        "  # This requires some extra dependencies and is optional\n",
        "  pass\n",
        "\n"
      ],
      "metadata": {
        "colab": {
          "base_uri": "https://localhost:8080/",
          "height": 251
        },
        "id": "ND-mhP7wzCOs",
        "outputId": "c587ce93-1b59-4f1a-edda-ced587142d03"
      },
      "execution_count": null,
      "outputs": [
        {
          "output_type": "display_data",
          "data": {
            "image/jpeg": "[encoded data removed]",
            "text/plain": [
              "<IPython.core.display.Image object>"
            ]
          },
          "metadata": {}
        }
      ]
    },
    {
      "cell_type": "code",
      "source": [
        "for event in graph.stream({\"messages\":[(\"user\",\"I am Abdul Qadir\")]}):\n",
        "  print(\"EVENT: \",list(event.values())[0][\"messages\"][-1])"
      ],
      "metadata": {
        "colab": {
          "base_uri": "https://localhost:8080/"
        },
        "id": "OAVtRNEI0Yuw",
        "outputId": "bf70a4d4-681f-44e5-b22b-2660e5ed5e54"
      },
      "execution_count": null,
      "outputs": [
        {
          "output_type": "stream",
          "name": "stdout",
          "text": [
            "EVENT:  content=\"Hello Abdul Qadir, it's nice to meet you! \\n\\nIs there anything I can help you with today? I'm ready to answer questions, provide information, or just have a chat. \\n\" additional_kwargs={} response_metadata={'prompt_feedback': {'block_reason': 0, 'safety_ratings': []}, 'finish_reason': 'STOP', 'safety_ratings': [{'category': 'HARM_CATEGORY_SEXUALLY_EXPLICIT', 'probability': 'NEGLIGIBLE', 'blocked': False}, {'category': 'HARM_CATEGORY_HATE_SPEECH', 'probability': 'NEGLIGIBLE', 'blocked': False}, {'category': 'HARM_CATEGORY_HARASSMENT', 'probability': 'NEGLIGIBLE', 'blocked': False}, {'category': 'HARM_CATEGORY_DANGEROUS_CONTENT', 'probability': 'NEGLIGIBLE', 'blocked': False}]} id='run-c7df6fd9-1d47-43fc-b86a-5ea0edfd8c7b-0' usage_metadata={'input_tokens': 6, 'output_tokens': 42, 'total_tokens': 48, 'input_token_details': {'cache_read': 0}}\n"
          ]
        }
      ]
    },
    {
      "cell_type": "code",
      "source": [
        "def stream_graph_updates(user_input: str):\n",
        "  for event in graph.stream({\"messages\": [(\"user\", user_input)]}):\n",
        "    for value in event.values():\n",
        "      print(\"Assistant\", value[\"messages\"][-1].content)\n",
        "\n",
        "while True:\n",
        "  try:\n",
        "    user_input = input(\"User: \")\n",
        "    if user_input.lower() in [\"quit\",\"exit\",\"q\"]:\n",
        "      print(\"Good bye!\")\n",
        "      break\n",
        "    stream_graph_updates(user_input)\n",
        "  except:\n",
        "    # fallback if input is not available\n",
        "    user_input = \"What do you know about LangGraph?\"\n",
        "    print(\"User: \"+ user_input)\n",
        "    stream_graph_updates(user_input)\n",
        "    break"
      ],
      "metadata": {
        "colab": {
          "base_uri": "https://localhost:8080/"
        },
        "id": "3ZrvuvJh3Ywb",
        "outputId": "921ec4f9-3f5b-4be1-f838-dea77a8cae6a"
      },
      "execution_count": null,
      "outputs": [
        {
          "output_type": "stream",
          "name": "stdout",
          "text": [
            "User: Hey\n",
            "Assistant Hey there! What can I do for you today? \n",
            "\n",
            "User: I am Abdul Qadir.\n",
            "Assistant Nice to meet you, Abdul Qadir! Is there anything I can help you with today? \n",
            "\n",
            "User: Can you tell me about unconcious mind.\n",
            "Assistant ## The Unconscious Mind: A Deep Dive\n",
            "\n",
            "The unconscious mind is a fascinating and complex concept that has captivated philosophers and psychologists for centuries. While we can't directly observe it, its influence on our thoughts, feelings, and actions is undeniable. \n",
            "\n",
            "Here's a breakdown of key aspects:\n",
            "\n",
            "**What is the Unconscious Mind?**\n",
            "\n",
            "* **The Hidden Realm:** It refers to the part of our mind that operates outside our conscious awareness. It's a vast reservoir of thoughts, feelings, memories, and impulses that we are not directly aware of.\n",
            "* **Beyond Conscious Control:** We have little to no conscious control over this realm. It processes information and influences our behavior without our conscious knowledge.\n",
            "* **A Powerful Influence:** Despite being hidden, the unconscious mind plays a significant role in shaping our personality, motivations, and decisions.\n",
            "\n",
            "**Key Functions of the Unconscious Mind:**\n",
            "\n",
            "* **Emotional Regulation:** It helps us manage our emotions, often in ways we're not aware of.\n",
            "* **Memory Storage:** It stores memories, both conscious and repressed.\n",
            "* **Motivation and Drive:** It houses our basic instincts and drives, such as hunger, thirst, and the need for safety.\n",
            "* **Defense Mechanisms:** It uses defense mechanisms like repression, denial, and projection to protect us from anxiety and emotional distress.\n",
            "* **Creativity and Intuition:** It can be a source of creativity and intuition, providing insights and solutions we might not have reached consciously.\n",
            "\n",
            "**How the Unconscious Mind Works:**\n",
            "\n",
            "* **Freud's Psychoanalytic Perspective:** Sigmund Freud, the father of psychoanalysis, believed the unconscious mind was a powerful force shaped by early childhood experiences and repressed desires. He proposed the \"id,\" \"ego,\" and \"superego\" as key components of the unconscious.\n",
            "* **Modern Perspectives:** Contemporary psychologists have expanded on Freud's theories, exploring the unconscious through various lenses like cognitive science, neuroscience, and evolutionary psychology.\n",
            "* **The Role of the Brain:** Recent research suggests that the unconscious mind is closely tied to specific brain regions and processes, like the amygdala (emotions) and the hippocampus (memory).\n",
            "\n",
            "**Accessing the Unconscious:**\n",
            "\n",
            "While we can't directly access the unconscious mind, various techniques can help us explore its influence:\n",
            "\n",
            "* **Dreams:** Dreams are often seen as a window into the unconscious, revealing hidden desires, fears, and anxieties.\n",
            "* **Psychotherapy:** Psychoanalysis and other forms of psychotherapy aim to uncover unconscious conflicts and patterns that may be affecting our lives.\n",
            "* **Hypnosis:** Hypnosis can induce a state of deep relaxation and suggestibility, potentially allowing access to unconscious memories and emotions.\n",
            "\n",
            "**Understanding the Unconscious:**\n",
            "\n",
            "Exploring the unconscious mind is a journey of self-discovery. By understanding its influence, we can gain a deeper understanding of our own motivations, behaviors, and emotions. This knowledge can empower us to make healthier choices and live more fulfilling lives.\n",
            "\n",
            "**Important Note:** This is a simplified overview of a complex topic. The unconscious mind is a vast and multifaceted area of study, and there are many different theories and perspectives. It's important to approach this topic with an open mind and to learn from various sources to gain a more comprehensive understanding. \n",
            "\n",
            "User: exit\n",
            "Good bye!\n"
          ]
        }
      ]
    },
    {
      "cell_type": "markdown",
      "source": [
        "**Congratulations!** You've built your first chatbot using LangGraph. This bot can engage in basic conversation by taking user input and generating responses using an LLM. You can inspect a [LangSmith Trace](https://smith.langchain.com/public/7527e308-9502-4894-b347-f34385740d5a/r) for the call above at the provided link.\n",
        "\n",
        "However, you may have noticed that the bot's knowledge is limited to what's in its training data. In the next part, we'll add a web search tool to expand the bot's knowledge and make it more capable.\n",
        "\n",
        "Below is the full code for this section for your reference:\n",
        "\n",
        "<details>\n",
        "<summary>Full Code</summary>\n",
        "    <pre>\n",
        "        \n",
        "```python\n",
        "from typing import Annotated\n",
        "\n",
        "from langchain_anthropic import ChatAnthropic\n",
        "from typing_extensions import TypedDict\n",
        "\n",
        "from langgraph.graph import StateGraph\n",
        "from langgraph.graph.message import add_messages\n",
        "\n",
        "\n",
        "class State(TypedDict):\n",
        "    messages: Annotated[list, add_messages]\n",
        "\n",
        "\n",
        "graph_builder = StateGraph(State)\n",
        "\n",
        "\n",
        "llm = ChatAnthropic(model=\"claude-3-5-sonnet-20240620\")\n",
        "\n",
        "\n",
        "def chatbot(state: State):\n",
        "    return {\"messages\": [llm.invoke(state[\"messages\"])]}\n",
        "\n",
        "\n",
        "# The first argument is the unique node name\n",
        "# The second argument is the function or object that will be called whenever\n",
        "# the node is used.\n",
        "graph_builder.add_node(\"chatbot\", chatbot)\n",
        "graph_builder.set_entry_point(\"chatbot\")\n",
        "graph_builder.set_finish_point(\"chatbot\")\n",
        "graph = graph_builder.compile()\n",
        "```\n",
        "\n",
        "</pre>\n",
        "</details>"
      ],
      "metadata": {
        "id": "-CupGZevBQhu"
      }
    },
    {
      "cell_type": "markdown",
      "source": [
        "## Part 2: Enhancing the Chatbot with Tools\n",
        "\n",
        "To handle queries our chatbot can't answer \"from memory\", we'll integrate a web search tool. Our bot can use this tool to find relevant information and provide better responses.\n",
        "\n",
        "#### Requirements\n",
        "\n",
        "Before we start, make sure you have the necessary packages installed and API keys set up:\n",
        "\n",
        "First, install the requirements to use the [Tavily Search Engine](https://python.langchain.com/docs/integrations/tools/tavily_search/), and set your [TAVILY_API_KEY](https://tavily.com/)."
      ],
      "metadata": {
        "id": "YVCAtgewBkWI"
      }
    },
    {
      "cell_type": "code",
      "source": [
        "%%capture --no-stderr\n",
        "%pip install -U tavily-python langchain_community"
      ],
      "metadata": {
        "id": "j-eLkrRh2XvB"
      },
      "execution_count": null,
      "outputs": []
    },
    {
      "cell_type": "code",
      "source": [
        "os.environ[\"TAVILY_API_KEY\"] = userdata.get(\"TAVILY_API_KEY\")"
      ],
      "metadata": {
        "id": "beTtst4wZfFS"
      },
      "execution_count": null,
      "outputs": []
    },
    {
      "cell_type": "markdown",
      "source": [
        "# Next define the tools"
      ],
      "metadata": {
        "id": "l_BGVqqm4acF"
      }
    },
    {
      "cell_type": "code",
      "source": [
        "from langchain_community.tools.tavily_search import TavilySearchResults\n",
        "\n",
        "tool = TavilySearchResults(max_results=2)\n",
        "tools = [tool]\n",
        "tool.invoke(\"Whats the weather in Lahore Today?\")"
      ],
      "metadata": {
        "colab": {
          "base_uri": "https://localhost:8080/"
        },
        "id": "-WLFfFz5ZfA_",
        "outputId": "c4f91385-25af-44f4-e0f5-f3b84670b571"
      },
      "execution_count": null,
      "outputs": [
        {
          "output_type": "execute_result",
          "data": {
            "text/plain": [
              "[{'url': 'https://www.timeanddate.com/weather/pakistan/lahore/ext',\n",
              "  'content': 'Lahore 14 Day Extended Forecast. Weather Today Weather Hourly 14 Day Forecast Yesterday/Past Weather Climate (Averages) Currently: 70 °F. Fog. (Weather station: Lahore Airport, Pakistan). See more current weather.'},\n",
              " {'url': 'https://www.accuweather.com/en/pk/lahore/260622/weather-today/260622',\n",
              "  'content': \"Everything you need to know about today's weather in Lahore, Punjab, Pakistan. High/Low, Precipitation Chances, Sunrise/Sunset, and today's Temperature History.\"}]"
            ]
          },
          "metadata": {},
          "execution_count": 46
        }
      ]
    },
    {
      "cell_type": "markdown",
      "source": [
        "The results are page summaries our chat bot can use to answer questions.\n",
        "\n",
        "\n",
        "Next, we'll start defining our graph. The following is all **the same as in Part 1**, except we have added `bind_tools` on our LLM. This lets the LLM know the correct JSON format to use if it wants to use our search engine."
      ],
      "metadata": {
        "id": "-Ml4qKhx_Dku"
      }
    },
    {
      "cell_type": "code",
      "source": [
        "from typing import Annotated\n",
        "from typing_extensions import TypedDict\n",
        "\n",
        "\n",
        "from langgraph.graph import StateGraph, START, END\n",
        "from langgraph.graph.message import add_messages\n",
        "\n",
        "def State(TypedDict):\n",
        "  messages: Annotated[list, add_messages]\n",
        "\n",
        "graph_builder = StateGraph(State)\n",
        "\n",
        "\n",
        "# Modification: tell the LLM which tools it can call\n",
        "llm_with_tools = llm.bind_tools(tools)\n",
        "\n",
        "def chatbot(state: State):\n",
        "  return {\"messages\": llm_with_tools.invoke((state[\"messages\"]))}\n",
        "\n",
        "graph_builder.add_node(\"chatbot\",chatbot)"
      ],
      "metadata": {
        "colab": {
          "base_uri": "https://localhost:8080/"
        },
        "id": "VkCbkPl65t3u",
        "outputId": "76a113be-3ad8-48a9-e3c7-4c8d23050da7"
      },
      "execution_count": null,
      "outputs": [
        {
          "output_type": "stream",
          "name": "stderr",
          "text": [
            "/usr/local/lib/python3.10/dist-packages/langgraph/graph/state.py:64: UserWarning: Invalid state_schema: <function State at 0x7d9047ab4af0>. Expected a type or Annotated[type, reducer]. Please provide a valid schema to ensure correct updates.\n",
            " See: https://langchain-ai.github.io/langgraph/reference/graphs/#stategraph\n",
            "  warnings.warn(\n"
          ]
        },
        {
          "output_type": "execute_result",
          "data": {
            "text/plain": [
              "<langgraph.graph.state.StateGraph at 0x7d9047fb52d0>"
            ]
          },
          "metadata": {},
          "execution_count": 47
        }
      ]
    },
    {
      "cell_type": "markdown",
      "source": [
        "Next we need to create a function to actually run the tools if they are called. We'll do this by adding the tools to a new node.\n",
        "\n",
        "Below, we implement a `BasicToolNode` that checks the most recent message in the state and calls tools if the message contains `tool_calls`. It relies on the LLM's `tool_calling` support, which is available in Anthropic, OpenAI, Google Gemini, and a number of other LLM providers.\n",
        "\n",
        "We will later replace this with LangGraph's prebuilt [ToolNode](https://langchain-ai.github.io/langgraph/reference/prebuilt/#toolnode) to speed things up, but building it ourselves first is instructive."
      ],
      "metadata": {
        "id": "ABFbnXVun9MC"
      }
    },
    {
      "cell_type": "code",
      "source": [
        "tools_by_name = {tool.name: tool for tool in tools}\n",
        "print(type(tools_by_name))\n",
        "print(tools_by_name)\n",
        "\n",
        "tools_by_name[\"tavily_search_results_json\"]\n",
        "\n",
        "llm_with_tools.invoke(\"Who won in the 2024 Presidential elections?\")"
      ],
      "metadata": {
        "colab": {
          "base_uri": "https://localhost:8080/"
        },
        "id": "nC1QQo_uE23n",
        "outputId": "f184aa70-f65e-4838-e885-7a289607ecff"
      },
      "execution_count": null,
      "outputs": [
        {
          "output_type": "stream",
          "name": "stdout",
          "text": [
            "<class 'dict'>\n",
            "{'tavily_search_results_json': TavilySearchResults(max_results=2, api_wrapper=TavilySearchAPIWrapper(tavily_api_key=SecretStr('**********')))}\n"
          ]
        },
        {
          "output_type": "execute_result",
          "data": {
            "text/plain": [
              "AIMessage(content='', additional_kwargs={'function_call': {'name': 'tavily_search_results_json', 'arguments': '{\"query\": \"2024 Presidential elections\"}'}}, response_metadata={'prompt_feedback': {'block_reason': 0, 'safety_ratings': []}, 'finish_reason': 'STOP', 'safety_ratings': [{'category': 'HARM_CATEGORY_HARASSMENT', 'probability': 'NEGLIGIBLE', 'blocked': False}, {'category': 'HARM_CATEGORY_HATE_SPEECH', 'probability': 'NEGLIGIBLE', 'blocked': False}, {'category': 'HARM_CATEGORY_DANGEROUS_CONTENT', 'probability': 'NEGLIGIBLE', 'blocked': False}, {'category': 'HARM_CATEGORY_SEXUALLY_EXPLICIT', 'probability': 'NEGLIGIBLE', 'blocked': False}]}, id='run-d6ccf677-56ba-4352-bcdb-fc68e3ff7052-0', tool_calls=[{'name': 'tavily_search_results_json', 'args': {'query': '2024 Presidential elections'}, 'id': 'd98ad2b6-83a6-4bec-8c92-40d3ec75dcc2', 'type': 'tool_call'}], usage_metadata={'input_tokens': 86, 'output_tokens': 25, 'total_tokens': 111, 'input_token_details': {'cache_read': 0}})"
            ]
          },
          "metadata": {},
          "execution_count": 55
        }
      ]
    },
    {
      "cell_type": "code",
      "source": [],
      "metadata": {
        "id": "x056L8svpqRV"
      },
      "execution_count": null,
      "outputs": []
    }
  ]
}