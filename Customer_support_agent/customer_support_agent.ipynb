{
  "nbformat": 4,
  "nbformat_minor": 0,
  "metadata": {
    "colab": {
      "provenance": []
    },
    "kernelspec": {
      "name": "python3",
      "display_name": "Python 3"
    },
    "language_info": {
      "name": "python"
    }
  },
  "cells": [
    {
      "cell_type": "markdown",
      "source": [
        "# Building an Intelligent EdTech Student Support Agent with LangGraph  \n",
        "\n",
        "## Overview  \n",
        "This tutorial demonstrates how to create an intelligent student support agent using **LangGraph**, a powerful tool for building complex language model workflows. The agent is designed to assist with course material inquiries, scheduling, and administrative questions, enhancing student engagement and streamlining support for educational institutions.  \n",
        "\n",
        "## Motivation  \n",
        "In today's evolving educational landscape, efficient and accurate student support is crucial. Automating the initial stages of student interaction can significantly reduce response times, improve access to information, and enhance the overall learning experience. This project showcases how advanced language models and graph-based workflows can be combined to create a sophisticated support system tailored for educational platforms.  \n",
        "\n",
        "## Key Components  \n",
        "1. **State Management**: Using TypedDict to define and manage the state of each student interaction.  \n",
        "2. **Query Categorization**: Classifying student queries into categories such as **Course Material**, **Scheduling**, or **Administrative**.  \n",
        "3. **Content Assistance**: Providing accurate information or resources based on the student's query.  \n",
        "4. **Scheduling Support**: Helping with class schedules, reminders, and resolving conflicts.  \n",
        "5. **Response Generation**: Crafting clear, helpful responses tailored to different types of queries.  \n",
        "6. **Escalation Mechanism**: Automatically referring complex or unresolved queries to human support staff.  \n",
        "7. **Workflow Graph**: Utilizing LangGraph to create a flexible and extensible workflow for managing student inquiries.  \n",
        "\n",
        "## Method Details  \n",
        "1. **Initialization**: Set up the environment and import necessary libraries.  \n",
        "2. **State Definition**: Create a structure to hold query information, category, and generated responses.  \n",
        "3. **Node Functions**: Implement functions for categorization, content retrieval, and scheduling assistance.  \n",
        "4. **Graph Construction**: Use **StateGraph** to define the workflow, adding nodes and edges to represent the support process.  \n",
        "5. **Conditional Routing**: Implement logic to route queries based on their type and complexity.  \n",
        "6. **Workflow Compilation**: Compile the graph into an executable application.  \n",
        "7. **Execution**: Process student queries through the workflow and return actionable results.  \n",
        "\n",
        "## Conclusion  \n",
        "This tutorial demonstrates the power and flexibility of **LangGraph** in creating complex, AI-driven workflows for educational platforms. By combining natural language processing capabilities with a structured graph-based approach, we've developed a student support agent that can efficiently handle a wide range of inquiries.  \n",
        "\n",
        "This system can be further extended and customized to meet the specific needs of educational institutions, potentially integrating with existing learning management systems (LMS) and databases. The approach showcased here has broad applications beyond student support, illustrating how language models can be effectively orchestrated to solve complex, multi-step problems in various domains.\n"
      ],
      "metadata": {
        "id": "iiuaQXVUUowD"
      }
    },
    {
      "cell_type": "markdown",
      "source": [
        "# Import Necessary Libraries"
      ],
      "metadata": {
        "id": "n_2yhb5-AQ2p"
      }
    },
    {
      "cell_type": "code",
      "source": [
        "%%capture --no-stderr\n",
        "%pip install -U langgraph langchain_google_genai langchain_core"
      ],
      "metadata": {
        "id": "2YhnRZx2CBbk"
      },
      "execution_count": 1,
      "outputs": []
    },
    {
      "cell_type": "code",
      "execution_count": 2,
      "metadata": {
        "id": "IZTc8rhfTVCU"
      },
      "outputs": [],
      "source": [
        "from typing import TypedDict, List, Dict\n",
        "from langgraph.graph import END, StateGraph\n",
        "from langchain_core.prompts import ChatPromptTemplate\n",
        "from langchain_core.messages import HumanMessage\n",
        "from langchain_google_genai import ChatGoogleGenerativeAI\n",
        "\n",
        "from IPython.display import display, Image\n",
        "from langchain_core.runnables.graph import MermaidDrawMethod"
      ]
    },
    {
      "cell_type": "code",
      "source": [
        "from google.colab import userdata\n",
        "GEMINI_API_KEY = userdata.get('GEMINI_API_KEY')"
      ],
      "metadata": {
        "id": "izxonmwmDD8P"
      },
      "execution_count": 3,
      "outputs": []
    },
    {
      "cell_type": "code",
      "source": [
        "import os\n",
        "os.environ[\"LANGCHAIN_API_KEY\"] = userdata.get('LANGCHAIN_API_KEY')\n",
        "os.environ[\"LANGCHAIN_TRACING_V2\"] = \"true\"\n",
        "os.environ[\"LANGCHAIN_PROJECT\"] = \"langchain-academy\""
      ],
      "metadata": {
        "id": "XL4LFC-mDWqg"
      },
      "execution_count": 4,
      "outputs": []
    },
    {
      "cell_type": "markdown",
      "source": [
        "# Define State Structure\n",
        "We define a `State` class to hold the query, category, sentiment, and response for each customer interaction."
      ],
      "metadata": {
        "id": "FMt3vhR6D0HE"
      }
    },
    {
      "cell_type": "code",
      "source": [
        "class State(TypedDict):\n",
        "  query: str\n",
        "  category: str\n",
        "  sentiment: str\n",
        "  response: str\n",
        "\n",
        "llm: ChatGoogleGenerativeAI = ChatGoogleGenerativeAI(model= \"gemini-1.5-flash\", api_key=GEMINI_API_KEY)"
      ],
      "metadata": {
        "id": "K36_SgqmDoBI"
      },
      "execution_count": 5,
      "outputs": []
    },
    {
      "cell_type": "markdown",
      "source": [
        "# Define Node Functions\n",
        "These functions represent the different stages of processing a student query."
      ],
      "metadata": {
        "id": "KDcSbjfDjznr"
      }
    },
    {
      "cell_type": "code",
      "source": [
        "def categorize(state: State) -> State:\n",
        "  \"\"\"Categorize the customer query into Course Material, Scheduling or Administrative.\"\"\"\n",
        "  prompt = ChatPromptTemplate.from_template(\n",
        "      \"Categorize the following customer query into of these categores: \"\n",
        "      \"Course Material, Scheduling, Administrative. Query: {query}\"\n",
        "  )\n",
        "  message = HumanMessage(content=prompt.format(query=state[\"query\"]))\n",
        "  category = llm.invoke([message]).content.strip()\n",
        "  return {\"category\": category}\n",
        "\n",
        "def analyze_sentiment(state: State) -> State:\n",
        "  \"\"\"Analyze the sentiment of the student query as Positive, Neutral, or Negative.\"\"\"\n",
        "  prompt = ChatPromptTemplate.from_template(\n",
        "      \"Analyze the sentiment of the following student query. \"\n",
        "      \"Response with either 'Positive', 'Neutral', or 'Negative'. Query: {query}\"\n",
        "  )\n",
        "  message = HumanMessage(content=prompt.format(query=state[\"query\"]))\n",
        "  sentiment = llm.invoke([message]).content.strip()\n",
        "  return {\"sentiment\": sentiment}\n",
        "\n",
        "def handle_course_material(state: State) -> State:\n",
        "      \"\"\"Provide a course material support response to the query.\"\"\"\n",
        "      prompt = ChatPromptTemplate.from_template(\n",
        "          \"Provide a course material support response to the following query. \"\n",
        "          \"Query: {query}\"\n",
        "      )\n",
        "      message = HumanMessage(content=prompt.format(query=state[\"query\"]))\n",
        "      response = llm.invoke([message]).content.strip()\n",
        "      return {\"response\": response}\n",
        "\n",
        "def handle_scheduling(state: State) -> State:\n",
        "  \"\"\"Provide a scheduling support response to the query.\"\"\"\n",
        "  prompt = ChatPromptTemplate.from_template(\n",
        "      \"Provide a scheduling support response to the following query.\"\n",
        "      \"Query: {query}\"\n",
        "  )\n",
        "  message = HumanMessage(content=prompt.format(query=state[\"query\"]))\n",
        "  response = llm.invoke([message]).content.strip()\n",
        "  return {\"response\": response}\n",
        "\n",
        "def handle_administrative(state: State) -> State:\n",
        "  \"\"\"Provide an administrative support response to the query.\"\"\"\n",
        "  prompt = ChatPromptTemplate.from_template(\n",
        "      \"Provide an administrative support response to the following query.\"\n",
        "      \"Query: {query}\"\n",
        "  )\n",
        "  message = HumanMessage(content=prompt.format(query=state[\"query\"]))\n",
        "  response = llm.invoke([message]).content.strip()\n",
        "  return {\"reponse\": response}\n",
        "\n",
        "def escalate(state: State) -> State:\n",
        "  \"\"\"Escalate the query to a human agent due to negative sentiment.\"\"\"\n",
        "  return {\"response\":\"This query has been escalated to a human agent due to its negative sentiment.\"}\n",
        "\n",
        "def route_query(state: State) -> str:\n",
        "  \"\"\"Route the query based on its sentiment and category.\"\"\"\n",
        "  if state[\"sentiment\"] == \"Negative\":\n",
        "    return \"escalate\"\n",
        "  elif state[\"category\"] == \"Course Material\":\n",
        "    return \"handle_course_material\"\n",
        "  elif state[\"category\"] == \"Scheduling\":\n",
        "    return \"handle_scheduling\"\n",
        "  else:\n",
        "    return \"handle_administrative\"\n"
      ],
      "metadata": {
        "id": "0XJcuzM1l1UK"
      },
      "execution_count": 11,
      "outputs": []
    },
    {
      "cell_type": "markdown",
      "source": [
        "# Create and Configure the Graph\n",
        "Here we set up the LangGraph, defining nodes and edges to create our EdTech student support workflow."
      ],
      "metadata": {
        "id": "xjLIXB8rl1BS"
      }
    },
    {
      "cell_type": "code",
      "source": [
        "# Create the graph\n",
        "workflow = StateGraph(State)\n",
        "\n",
        "# Add nodes\n",
        "workflow.add_node(\"categorize\",categorize)\n",
        "workflow.add_node(\"analyze_sentiment\",analyze_sentiment)\n",
        "workflow.add_node(\"handle_course_material\",handle_course_material)\n",
        "workflow.add_node(\"handle_scheduling\",handle_scheduling)\n",
        "workflow.add_node(\"handle_administrative\", handle_administrative)\n",
        "workflow.add_node(\"escalate\", escalate)\n",
        "\n",
        "# Add edges\n",
        "workflow.add_edge(\"categorize\", \"analyze_sentiment\")\n",
        "workflow.add_conditional_edges(\"analyze_sentiment\",\n",
        "                  route_query,\n",
        "                  {\n",
        "                      \"handle_course_material\":\"handle_course_material\",\n",
        "                      \"handle_scheduling\":\"handle_scheduling\",\n",
        "                      \"handle_administrative\":\"handle_administrative\",\n",
        "                      \"escalate\":\"escalate\"\n",
        "                  })\n",
        "workflow.add_edge(\"handle_course_material\", END)\n",
        "workflow.add_edge(\"handle_scheduling\",END)\n",
        "workflow.add_edge(\"handle_administrative\",END)\n",
        "workflow.add_edge(\"escalate\",END)\n",
        "\n",
        "# set entry point\n",
        "workflow.set_entry_point(\"categorize\")\n",
        "\n",
        "# compile the graph\n",
        "app = workflow.compile()"
      ],
      "metadata": {
        "id": "69tA9hCeHVGu"
      },
      "execution_count": 12,
      "outputs": []
    },
    {
      "cell_type": "markdown",
      "source": [
        "# Visualize the Graph\n",
        "This cell generates and displays a visual representation of our LangGraph workflow."
      ],
      "metadata": {
        "id": "bbiBtgRldnJD"
      }
    },
    {
      "cell_type": "code",
      "source": [
        "display(\n",
        "    Image(\n",
        "        app.get_graph().draw_mermaid_png(\n",
        "            draw_method=MermaidDrawMethod.API\n",
        "        )\n",
        "    )\n",
        ")"
      ],
      "metadata": {
        "colab": {
          "base_uri": "https://localhost:8080/",
          "height": 449
        },
        "id": "QnecwRnUZcYs",
        "outputId": "77472dcf-7ba5-4321-9302-98e292dd9186"
      },
      "execution_count": 13,
      "outputs": [
        {
          "output_type": "display_data",
          "data": {
            "image/png": "[encoded data removed]",
            "text/plain": [
              "<IPython.core.display.Image object>"
            ]
          },
          "metadata": {}
        }
      ]
    },
    {
      "cell_type": "markdown",
      "source": [
        "# Run EdTech Student Support Function\n",
        "This function processes a student query through our LangGraph workflow."
      ],
      "metadata": {
        "id": "2wWijak1ggdd"
      }
    },
    {
      "cell_type": "code",
      "source": [
        "def run_customer_support(query: str) -> Dict[str, str]:\n",
        "  \"\"\"Process a student query through the EdTech support workflow.\n",
        "\n",
        "  Args:\n",
        "      query (str): The customer's query\n",
        "\n",
        "  Returns:\n",
        "      Dict[str, str]: A dictionary containing the query, category, sentiment, and response.\n",
        "  \"\"\"\n",
        "  results = app.invoke({\"query\": query})\n",
        "  return {\n",
        "      \"category\": results[\"category\"],\n",
        "      \"sentiment\": results[\"sentiment\"],\n",
        "      \"response\": results[\"response\"]\n",
        "  }"
      ],
      "metadata": {
        "id": "DTp3a4sGejTq"
      },
      "execution_count": 14,
      "outputs": []
    },
    {
      "cell_type": "markdown",
      "source": [
        "# Test the Sudent Support Agent\n",
        "Let's test our EdTech student support agent with a sample queries for each kind of query type."
      ],
      "metadata": {
        "id": "YlipUIpxjnIK"
      }
    },
    {
      "cell_type": "code",
      "source": [
        "# escalate\n",
        "\n",
        "query = \"I am not satisfied with the management of organization?\"\n",
        "result = run_customer_support(query)\n",
        "print(f\"Query: {query}\")\n",
        "print(f\"Category: {result['category']}\")\n",
        "print(f\"Sentiment: {result['sentiment']}\")\n",
        "print(f\"Response: {result['response']}\")\n",
        "print(\"\\n\")\n",
        "\n",
        "# handle_course_material\n",
        "\n",
        "query = \"I need the syllabus to learn Quantum physics basics\"\n",
        "result = run_customer_support(query)\n",
        "print(f\"Query: {query}\")\n",
        "print(f\"Category: {result['category']}\")\n",
        "print(f\"Sentiment: {result['sentiment']}\")\n",
        "print(f\"Response: {result['response']}\")\n",
        "print(\"\\n\")\n",
        "\n",
        "# handle_scheduling\n",
        "\n",
        "query = \"When will  the classes start of new semester?\"\n",
        "result = run_customer_support(query)\n",
        "print(f\"Query: {query}\")\n",
        "print(f\"Category: {result['category']}\")\n",
        "print(f\"Sentiment: {result['sentiment']}\")\n",
        "print(f\"Response: {result['response']}\")\n",
        "print(\"\\n\")\n",
        "\n",
        "# handle_administrative\n",
        "\n",
        "query = \"I wants to enroll in another course. Am I late?\"\n",
        "result = run_customer_support(query)\n",
        "print(f\"Query: {query}\")\n",
        "print(f\"Category: {result['category']}\")\n",
        "print(f\"Sentiment: {result['sentiment']}\")\n",
        "print(f\"Response: {result['response']}\")"
      ],
      "metadata": {
        "colab": {
          "base_uri": "https://localhost:8080/"
        },
        "id": "Jav2zSjyit7c",
        "outputId": "7ddbcc26-47c9-401b-e8aa-0ec53f9034f5"
      },
      "execution_count": 15,
      "outputs": [
        {
          "output_type": "stream",
          "name": "stdout",
          "text": [
            "Query: I am not satisfied with the management of organization?\n",
            "Category: Administrative\n",
            "Sentiment: Negative\n",
            "Response: This query has been escalated to a human agent due to its negative sentiment.\n",
            "\n",
            "\n",
            "Query: I need the syllabus to learn Quantum physics basics\n",
            "Category: Course Material\n",
            "Sentiment: Neutral\n",
            "Response: There isn't a single syllabus that universally covers \"Quantum Physics Basics,\" as the depth and breadth of the subject vary widely depending on the intended audience and level of the course.  However, I can provide you with a potential syllabus structure and topics that would be included in a foundational course.  You can use this as a guide to find suitable learning materials, either online (e.g., MIT OpenCourseware, edX, Coursera) or in textbooks.\n",
            "\n",
            "**Potential Syllabus Structure for Quantum Physics Basics:**\n",
            "\n",
            "**Course Title:** Introduction to Quantum Mechanics\n",
            "\n",
            "**Course Description:** This course provides an introduction to the fundamental concepts and principles of quantum mechanics.  Students will gain an understanding of the mathematical formalism and its application to simple physical systems.  No prior knowledge of quantum mechanics is assumed, but a solid foundation in classical mechanics and calculus is recommended.\n",
            "\n",
            "**Prerequisites:**  Calculus (including differential equations), Classical Mechanics (at the introductory level).\n",
            "\n",
            "**Topics Covered:**\n",
            "\n",
            "**I.  Mathematical Foundations (approx. 2 weeks):**\n",
            "\n",
            "* **Linear Algebra:** Vectors, matrices, linear operators, eigenvalues and eigenvectors, Hermitian operators.\n",
            "* **Complex Numbers:** Basic operations, complex conjugate, Euler's formula.\n",
            "* **Probability and Statistics:** Probability distributions, expectation values, standard deviation.\n",
            "\n",
            "\n",
            "**II.  Postulates of Quantum Mechanics (approx. 3 weeks):**\n",
            "\n",
            "* **Postulate 1:** The state of a quantum system is described by a state vector in a Hilbert space.\n",
            "* **Postulate 2:** Physical observables are represented by Hermitian operators.\n",
            "* **Postulate 3:** The measurement of an observable yields one of its eigenvalues.\n",
            "* **Postulate 4:** The time evolution of a quantum system is governed by the Schrödinger equation.\n",
            "* **Postulate 5:**  Composite systems are described by tensor products of the individual systems' Hilbert spaces.\n",
            "\n",
            "\n",
            "**III.  Simple Quantum Systems (approx. 4 weeks):**\n",
            "\n",
            "* **Particle in a Box:** Solving the Schrödinger equation for a particle confined to a one-dimensional box.  Quantization of energy.\n",
            "* **Harmonic Oscillator:** Solving the Schrödinger equation for a simple harmonic oscillator.  Creation and annihilation operators.\n",
            "* **Hydrogen Atom:** Solving the Schrödinger equation for the hydrogen atom.  Atomic orbitals and energy levels.  Spectroscopy.\n",
            "* **Spin:** Introduction to the concept of spin and its properties.  Stern-Gerlach experiment.\n",
            "\n",
            "\n",
            "**IV.  Fundamental Concepts (approx. 3 weeks):**\n",
            "\n",
            "* **Uncertainty Principle:** Heisenberg's uncertainty principle and its implications.\n",
            "* **Quantum Measurement:** The role of measurement in quantum mechanics.  Wave-particle duality.\n",
            "* **Entanglement:** Entangled states and Bell's inequalities.\n",
            "\n",
            "\n",
            "**Assessment:**\n",
            "\n",
            "* Homework assignments (40%)\n",
            "* Midterm exam (30%)\n",
            "* Final exam (30%)\n",
            "\n",
            "\n",
            "**Recommended Textbooks:** (This is not exhaustive, many good introductory texts exist)\n",
            "\n",
            "* Griffiths, David J. *Introduction to Quantum Mechanics*.\n",
            "* Shankar, R. *Principles of Quantum Mechanics*.\n",
            "\n",
            "\n",
            "**Learning Resources:**\n",
            "\n",
            "* MIT OpenCourseWare\n",
            "* Khan Academy\n",
            "* edX\n",
            "* Coursera\n",
            "\n",
            "\n",
            "This syllabus provides a framework.  The specific topics and their weighting might change depending on the course level and instructor.  Use this as a guide to find suitable resources and build your own personalized learning path. Remember to focus on understanding the underlying concepts rather than just memorizing formulas.\n",
            "\n",
            "\n",
            "Query: When will  the classes start of new semester?\n",
            "Category: Scheduling\n",
            "Sentiment: Neutral\n",
            "Response: The new semester classes will begin on [Insert Date Here].  Please refer to the academic calendar on [Link to Academic Calendar or Website] for a complete schedule, including specific class times and locations.  If you have further questions, please don't hesitate to contact us.\n",
            "\n",
            "\n",
            "Query: I wants to enroll in another course. Am I late?\n",
            "Category: Scheduling\n",
            "Sentiment: Neutral\n",
            "Response: It depends on the course and the institution.  To determine if you're too late to enroll, please tell me:\n",
            "\n",
            "* **Which course are you interested in?** (Course name and number, if applicable)\n",
            "* **Which institution is offering the course?** (University, college, online platform, etc.)\n",
            "\n",
            "Once I have this information, I can check the enrollment deadlines for you.  You can also usually find this information on the institution's website or course catalog.\n"
          ]
        }
      ]
    },
    {
      "cell_type": "code",
      "source": [],
      "metadata": {
        "id": "EhFY8pwmlmHo"
      },
      "execution_count": null,
      "outputs": []
    }
  ]
}